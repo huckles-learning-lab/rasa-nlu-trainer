{
  "nbformat": 4,
  "nbformat_minor": 0,
  "metadata": {
    "colab": {
      "provenance": [],
      "collapsed_sections": [
        "4y2g_hL_6qHD",
        "6lrWmKFo8oJD",
        "bGT4ZFhzkS-1",
        "j4bWzu_9JsTN",
        "oxOS4x7fNspG",
        "ptRD0QXeATDx",
        "9-xhu9PFH_HR",
        "AREOrvzxJVur",
        "EsTkxu43KWmk",
        "1K3vs7QdIYAm"
      ],
      "gpuType": "T4",
      "authorship_tag": "ABX9TyPJiPxurHkqY5tfaYTw3XfL",
      "include_colab_link": true
    },
    "kernelspec": {
      "name": "python3",
      "display_name": "Python 3"
    },
    "language_info": {
      "name": "python"
    },
    "accelerator": "GPU"
  },
  "cells": [
    {
      "cell_type": "markdown",
      "metadata": {
        "id": "view-in-github",
        "colab_type": "text"
      },
      "source": [
        "<a href=\"https://colab.research.google.com/github/huckles-learning-lab/rasa-nlu-trainer/blob/master/Deployment_Setup.ipynb\" target=\"_parent\"><img src=\"https://colab.research.google.com/assets/colab-badge.svg\" alt=\"Open In Colab\"/></a>"
      ]
    },
    {
      "cell_type": "markdown",
      "source": [
        "#Deployment-Setup\n",
        "Entwicklunsgumgebung für Rasa-Bots"
      ],
      "metadata": {
        "id": "SnGANozm6b7-"
      }
    },
    {
      "cell_type": "markdown",
      "source": [
        "##gDrive mounten\n",
        "und in Arbeitsverzeichnis Huckleslearninglab wechseln:"
      ],
      "metadata": {
        "id": "4y2g_hL_6qHD"
      }
    },
    {
      "cell_type": "code",
      "execution_count": null,
      "metadata": {
        "id": "D3Qdvdvw6agq"
      },
      "outputs": [],
      "source": []
    },
    {
      "cell_type": "markdown",
      "source": [
        "##Colab Notebooks mit einander verbinden"
      ],
      "metadata": {
        "id": "6lrWmKFo8oJD"
      }
    },
    {
      "cell_type": "markdown",
      "source": [
        "###Output 1.ipynb into Input 2.ipynb"
      ],
      "metadata": {
        "id": "QFWvkhr48zN7"
      }
    },
    {
      "cell_type": "markdown",
      "source": [
        "Im ersten Colab-Notebook:\n",
        "\n",
        "    Führen Sie den Code aus und erzeugen Sie den benötigten Output.\n",
        "\n",
        "    Speichern Sie den Output in einer Datei, zum Beispiel mit dem pickle-Modul:"
      ],
      "metadata": {
        "id": "JooB_RHV8YLQ"
      }
    },
    {
      "cell_type": "code",
      "source": [
        "import pickle\n",
        "\n",
        "output = ...  # Ihr Output\n",
        "\n",
        "with open('output.pkl', 'wb') as f:\n",
        "    pickle.dump(output, f)\n"
      ],
      "metadata": {
        "id": "979TfBQq7-ss"
      },
      "execution_count": null,
      "outputs": []
    },
    {
      "cell_type": "markdown",
      "source": [
        "Im zweiten Colab-Notebook:\n",
        "\n",
        "    Laden Sie die Datei 'output.pkl' und importieren Sie den darin gespeicherten Output:"
      ],
      "metadata": {
        "id": "dsxnt9mJ8eSV"
      }
    },
    {
      "cell_type": "code",
      "source": [
        "import pickle\n",
        "\n",
        "with open('/Pfad/zur/output.pkl', 'rb') as f:\n",
        "    output = pickle.load(f)\n",
        "\n",
        "# Verwenden Sie den Output in Ihrem zweiten Notebook\n"
      ],
      "metadata": {
        "id": "sNvottvR8A7Z"
      },
      "execution_count": null,
      "outputs": []
    },
    {
      "cell_type": "markdown",
      "source": [
        "##Navigation Arbeitsverzeichnis "
      ],
      "metadata": {
        "id": "k4AJQOKT9clB"
      }
    },
    {
      "cell_type": "markdown",
      "source": [
        "Verzeichnis anzeigen\n",
        "\n",
        "in Verzeichnis navigieren\n",
        "\n",
        "Verzeichnis list"
      ],
      "metadata": {
        "id": "PaRPlDBD9et_"
      }
    },
    {
      "cell_type": "code",
      "source": [
        "# @@@@@@@@@@@@@@@@@@@@@@@@@@@@@@@@\n",
        "# @@@@       NAVIGATE TO      @@@@\n",
        "# @@@@          HOME          @@@@\n",
        "# @@@@        DIRECTORY       @@@@\n",
        "# @@@@@@@@@@@@@@@@@@@@@@@@@@@@@@@@\n",
        "\n",
        "# Test-Workspace work directory = /content\n",
        "\n",
        "# use comands with ! and % like:\n",
        "# !ls\n",
        "# %cd\n",
        "\n",
        "!pwd\n",
        "!echo '# navigate to :'\n",
        "%cd /content/drive/My Drive/Github - huckles-learning-lab/\n",
        "!echo '# list directory:'\n",
        "!ls"
      ],
      "metadata": {
        "colab": {
          "base_uri": "https://localhost:8080/"
        },
        "id": "5D1wHIr1-qZk",
        "outputId": "29706323-35fe-4ff2-f639-dac80493f06b"
      },
      "execution_count": null,
      "outputs": [
        {
          "output_type": "stream",
          "name": "stdout",
          "text": [
            "/content\n",
            "# navigate to :\n",
            "/content\n",
            "# list directory:\n",
            "output.pkl  sample_data\n",
            "[Errno 2] No such file or directory: '/content/drive/My Drive/Github - huckles-learning-lab/'\n",
            "/content\n"
          ]
        }
      ]
    },
    {
      "cell_type": "code",
      "source": [
        "!pwd"
      ],
      "metadata": {
        "id": "W4lMK9NF9JPM"
      },
      "execution_count": null,
      "outputs": []
    },
    {
      "cell_type": "code",
      "source": [
        "%cd /to/path"
      ],
      "metadata": {
        "id": "yGXMzt5d920G"
      },
      "execution_count": null,
      "outputs": []
    },
    {
      "cell_type": "code",
      "source": [
        "!pwd\n",
        "!ls"
      ],
      "metadata": {
        "id": "HHcDwB8198Es"
      },
      "execution_count": null,
      "outputs": []
    },
    {
      "cell_type": "code",
      "source": [
        "# @@@@@@@@@@@@@@@@@@@@@@@@@@@@@@@@@\n",
        "# @@@@         gDrive          @@@@\n",
        "# @@@@        WORKSPACE        @@@@\n",
        "# @@@@  work in this console   @@@@\n",
        "# @@@@@@@@@@@@@@@@@@@@@@@@@@@@@@@@@\n",
        "# use comands with ! and % like:\n",
        "# !ls\n",
        "# %cd\n",
        "\n",
        "# your command:\n",
        "\n"
      ],
      "metadata": {
        "id": "aPYGdlbb-AmF"
      },
      "execution_count": null,
      "outputs": []
    },
    {
      "cell_type": "markdown",
      "source": [
        "#Rasa "
      ],
      "metadata": {
        "id": "N6WgUUFq64Kw"
      }
    },
    {
      "cell_type": "markdown",
      "source": [
        "##Setup Rasa Bot on Colab\n",
        "\n",
        "##First off, make sure the Colab is running a GPU instance."
      ],
      "metadata": {
        "id": "0aFYKJ-KMGHr"
      }
    },
    {
      "cell_type": "code",
      "execution_count": null,
      "metadata": {
        "colab": {
          "base_uri": "https://localhost:8080/"
        },
        "id": "My7pK9vW2Ys4",
        "outputId": "0f949089-34ea-4c7c-f25a-482b968aae1d"
      },
      "outputs": [
        {
          "output_type": "stream",
          "name": "stdout",
          "text": [
            "Mounted at /content/drive\n"
          ]
        }
      ],
      "source": [
        "from google.colab import drive\n",
        "drive.mount('/content/drive')"
      ]
    },
    {
      "cell_type": "markdown",
      "source": [
        "###Install Rasa, Haystack "
      ],
      "metadata": {
        "id": "Bt80Tv4aKwyt"
      }
    },
    {
      "cell_type": "code",
      "source": [
        "!python3 --version\n",
        "!pip3 --version"
      ],
      "metadata": {
        "colab": {
          "base_uri": "https://localhost:8080/"
        },
        "id": "Rl4Jq6P1Af1H",
        "outputId": "1faf620d-0da2-40dd-90e7-7e0dda230bf8"
      },
      "execution_count": null,
      "outputs": [
        {
          "output_type": "stream",
          "name": "stdout",
          "text": [
            "Python 3.10.12\n",
            "pip 23.1.2 from /usr/local/lib/python3.10/dist-packages/pip (python 3.10)\n"
          ]
        }
      ]
    },
    {
      "cell_type": "code",
      "source": [
        "!sudo apt update\n",
        "!sudo apt install python3-dev python3-pip"
      ],
      "metadata": {
        "id": "uHxA-22PAjbR"
      },
      "execution_count": null,
      "outputs": []
    },
    {
      "cell_type": "code",
      "source": [
        "!pip3 install -U pip"
      ],
      "metadata": {
        "id": "Q4qqmbbxB1bZ",
        "colab": {
          "base_uri": "https://localhost:8080/"
        },
        "outputId": "7ab63dbb-f087-4201-e643-28e99b2135d1"
      },
      "execution_count": null,
      "outputs": [
        {
          "output_type": "stream",
          "name": "stdout",
          "text": [
            "Looking in indexes: https://pypi.org/simple, https://us-python.pkg.dev/colab-wheels/public/simple/\n",
            "Requirement already satisfied: pip in /usr/local/lib/python3.10/dist-packages (23.1.2)\n"
          ]
        }
      ]
    },
    {
      "cell_type": "code",
      "source": [
        "!pip3 install rasa[full]"
      ],
      "metadata": {
        "id": "x5pQavzqBs1P"
      },
      "execution_count": null,
      "outputs": []
    },
    {
      "cell_type": "code",
      "source": [
        "!pip3 install rasa[spacy]\n",
        "!python3 -m spacy download en_core_web_md"
      ],
      "metadata": {
        "id": "Vn3JGXlnCkwa",
        "colab": {
          "base_uri": "https://localhost:8080/"
        },
        "outputId": "1de79d0f-39b1-489d-882c-01ee140b3132"
      },
      "execution_count": null,
      "outputs": [
        {
          "output_type": "stream",
          "name": "stdout",
          "text": [
            "Looking in indexes: https://pypi.org/simple, https://us-python.pkg.dev/colab-wheels/public/simple/\n",
            "Requirement already satisfied: rasa[spacy] in /usr/local/lib/python3.10/dist-packages (3.5.11)\n",
            "Requirement already satisfied: CacheControl<0.13.0,>=0.12.9 in /usr/local/lib/python3.10/dist-packages (from rasa[spacy]) (0.12.11)\n",
            "Requirement already satisfied: PyJWT[crypto]<3.0.0,>=2.0.0 in /usr/local/lib/python3.10/dist-packages (from rasa[spacy]) (2.7.0)\n",
            "Requirement already satisfied: SQLAlchemy<1.5.0,>=1.4.0 in /usr/local/lib/python3.10/dist-packages (from rasa[spacy]) (1.4.48)\n",
            "Requirement already satisfied: absl-py<1.4,>=0.9 in /usr/local/lib/python3.10/dist-packages (from rasa[spacy]) (1.3.0)\n",
            "Requirement already satisfied: aio-pika<8.2.4,>=6.7.1 in /usr/local/lib/python3.10/dist-packages (from rasa[spacy]) (8.2.3)\n",
            "Requirement already satisfied: aiogram<2.26 in /usr/local/lib/python3.10/dist-packages (from rasa[spacy]) (2.25.1)\n",
            "Requirement already satisfied: aiohttp!=3.7.4.post0,<3.9,>=3.6 in /usr/local/lib/python3.10/dist-packages (from rasa[spacy]) (3.8.4)\n",
            "Requirement already satisfied: apscheduler<3.10,>=3.6 in /usr/local/lib/python3.10/dist-packages (from rasa[spacy]) (3.9.1.post1)\n",
            "Requirement already satisfied: attrs<22.2,>=19.3 in /usr/local/lib/python3.10/dist-packages (from rasa[spacy]) (22.1.0)\n",
            "Requirement already satisfied: boto3<2.0,>=1.12 in /usr/local/lib/python3.10/dist-packages (from rasa[spacy]) (1.26.151)\n",
            "Requirement already satisfied: cloudpickle<2.3,>=1.2 in /usr/local/lib/python3.10/dist-packages (from rasa[spacy]) (2.2.1)\n",
            "Requirement already satisfied: colorclass<2.3,>=2.2 in /usr/local/lib/python3.10/dist-packages (from rasa[spacy]) (2.2.2)\n",
            "Requirement already satisfied: coloredlogs<16,>=10 in /usr/local/lib/python3.10/dist-packages (from rasa[spacy]) (15.0.1)\n",
            "Requirement already satisfied: colorhash<1.3.0,>=1.0.2 in /usr/local/lib/python3.10/dist-packages (from rasa[spacy]) (1.2.1)\n",
            "Requirement already satisfied: confluent-kafka<2.0.0,>=1.9.2 in /usr/local/lib/python3.10/dist-packages (from rasa[spacy]) (1.9.2)\n",
            "Requirement already satisfied: dask==2022.10.2 in /usr/local/lib/python3.10/dist-packages (from rasa[spacy]) (2022.10.2)\n",
            "Requirement already satisfied: fbmessenger<6.1.0,>=6.0.0 in /usr/local/lib/python3.10/dist-packages (from rasa[spacy]) (6.0.0)\n",
            "Requirement already satisfied: google-auth<3 in /usr/local/lib/python3.10/dist-packages (from rasa[spacy]) (2.17.3)\n",
            "Requirement already satisfied: joblib<1.3.0,>=0.15.1 in /usr/local/lib/python3.10/dist-packages (from rasa[spacy]) (1.2.0)\n",
            "Requirement already satisfied: jsonpickle<3.1,>=1.3 in /usr/local/lib/python3.10/dist-packages (from rasa[spacy]) (3.0.1)\n",
            "Requirement already satisfied: jsonschema<4.18,>=3.2 in /usr/local/lib/python3.10/dist-packages (from rasa[spacy]) (4.3.3)\n",
            "Requirement already satisfied: matplotlib<3.6,>=3.1 in /usr/local/lib/python3.10/dist-packages (from rasa[spacy]) (3.5.3)\n",
            "Requirement already satisfied: mattermostwrapper<2.3,>=2.2 in /usr/local/lib/python3.10/dist-packages (from rasa[spacy]) (2.2)\n",
            "Requirement already satisfied: networkx<2.7,>=2.4 in /usr/local/lib/python3.10/dist-packages (from rasa[spacy]) (2.6.3)\n",
            "Requirement already satisfied: numpy<1.25.0,>=1.19.2 in /usr/local/lib/python3.10/dist-packages (from rasa[spacy]) (1.22.4)\n",
            "Requirement already satisfied: packaging<21.0,>=20.0 in /usr/local/lib/python3.10/dist-packages (from rasa[spacy]) (20.9)\n",
            "Requirement already satisfied: pluggy<2.0.0,>=1.0.0 in /usr/local/lib/python3.10/dist-packages (from rasa[spacy]) (1.0.0)\n",
            "Requirement already satisfied: portalocker<3.0.0,>=2.7.0 in /usr/local/lib/python3.10/dist-packages (from rasa[spacy]) (2.7.0)\n",
            "Requirement already satisfied: prompt-toolkit<3.0.29,>=3.0 in /usr/local/lib/python3.10/dist-packages (from rasa[spacy]) (3.0.28)\n",
            "Requirement already satisfied: protobuf<3.20,>=3.9.2 in /usr/local/lib/python3.10/dist-packages (from rasa[spacy]) (3.19.6)\n",
            "Requirement already satisfied: psycopg2-binary<2.10.0,>=2.8.2 in /usr/local/lib/python3.10/dist-packages (from rasa[spacy]) (2.9.6)\n",
            "Requirement already satisfied: pydantic<1.10.3 in /usr/local/lib/python3.10/dist-packages (from rasa[spacy]) (1.10.2)\n",
            "Requirement already satisfied: pydot<1.5,>=1.4 in /usr/local/lib/python3.10/dist-packages (from rasa[spacy]) (1.4.2)\n",
            "Requirement already satisfied: pykwalify<1.9,>=1.7 in /usr/local/lib/python3.10/dist-packages (from rasa[spacy]) (1.8.0)\n",
            "Requirement already satisfied: pymongo[srv,tls]<3.11,>=3.8 in /usr/local/lib/python3.10/dist-packages (from rasa[spacy]) (3.10.1)\n",
            "Requirement already satisfied: python-dateutil<2.9,>=2.8 in /usr/local/lib/python3.10/dist-packages (from rasa[spacy]) (2.8.2)\n",
            "Requirement already satisfied: python-engineio!=5.0.0,<6,>=4 in /usr/local/lib/python3.10/dist-packages (from rasa[spacy]) (4.4.1)\n",
            "Requirement already satisfied: python-socketio<6,>=4.4 in /usr/local/lib/python3.10/dist-packages (from rasa[spacy]) (5.8.0)\n",
            "Requirement already satisfied: pytz<2023.0,>=2019.1 in /usr/local/lib/python3.10/dist-packages (from rasa[spacy]) (2022.7.1)\n",
            "Requirement already satisfied: questionary<1.11.0,>=1.5.1 in /usr/local/lib/python3.10/dist-packages (from rasa[spacy]) (1.10.0)\n",
            "Requirement already satisfied: randomname<0.2.0,>=0.1.5 in /usr/local/lib/python3.10/dist-packages (from rasa[spacy]) (0.1.5)\n",
            "Requirement already satisfied: rasa-sdk<3.6.0,>=3.5.0 in /usr/local/lib/python3.10/dist-packages (from rasa[spacy]) (3.5.1)\n",
            "Requirement already satisfied: redis<5.0,>=4.5.3 in /usr/local/lib/python3.10/dist-packages (from rasa[spacy]) (4.5.5)\n",
            "Requirement already satisfied: regex<2022.11,>=2020.6 in /usr/local/lib/python3.10/dist-packages (from rasa[spacy]) (2022.10.31)\n",
            "Requirement already satisfied: requests<3.0,>=2.23 in /usr/local/lib/python3.10/dist-packages (from rasa[spacy]) (2.27.1)\n",
            "Requirement already satisfied: rocketchat_API<1.29.0,>=0.6.31 in /usr/local/lib/python3.10/dist-packages (from rasa[spacy]) (1.28.1)\n",
            "Requirement already satisfied: ruamel.yaml<0.18.0,>=0.16.5 in /usr/local/lib/python3.10/dist-packages (from rasa[spacy]) (0.17.31)\n",
            "Requirement already satisfied: sanic<21.13,>=21.12 in /usr/local/lib/python3.10/dist-packages (from rasa[spacy]) (21.12.2)\n",
            "Requirement already satisfied: sanic-cors<2.1.0,>=2.0.0 in /usr/local/lib/python3.10/dist-packages (from rasa[spacy]) (2.0.1)\n",
            "Requirement already satisfied: sanic-jwt<2.0.0,>=1.6.0 in /usr/local/lib/python3.10/dist-packages (from rasa[spacy]) (1.8.0)\n",
            "Requirement already satisfied: sanic-routing<0.8.0,>=0.7.2 in /usr/local/lib/python3.10/dist-packages (from rasa[spacy]) (0.7.2)\n",
            "Requirement already satisfied: scikit-learn<1.2,>=0.22 in /usr/local/lib/python3.10/dist-packages (from rasa[spacy]) (1.1.3)\n",
            "Requirement already satisfied: scipy<1.9.0,>=1.4.1 in /usr/local/lib/python3.10/dist-packages (from rasa[spacy]) (1.8.1)\n",
            "Requirement already satisfied: sentry-sdk<1.15.0,>=0.17.0 in /usr/local/lib/python3.10/dist-packages (from rasa[spacy]) (1.14.0)\n",
            "Requirement already satisfied: setuptools>=41.0.0 in /usr/local/lib/python3.10/dist-packages (from rasa[spacy]) (67.7.2)\n",
            "Requirement already satisfied: sklearn-crfsuite<0.4,>=0.3 in /usr/local/lib/python3.10/dist-packages (from rasa[spacy]) (0.3.6)\n",
            "Requirement already satisfied: slack-sdk<4.0.0,>=3.19.2 in /usr/local/lib/python3.10/dist-packages (from rasa[spacy]) (3.21.3)\n",
            "Requirement already satisfied: tarsafe<0.0.4,>=0.0.3 in /usr/local/lib/python3.10/dist-packages (from rasa[spacy]) (0.0.3)\n",
            "Requirement already satisfied: tensorflow==2.11.0 in /usr/local/lib/python3.10/dist-packages (from rasa[spacy]) (2.11.0)\n",
            "Requirement already satisfied: tensorflow-addons<0.20,>=0.18 in /usr/local/lib/python3.10/dist-packages (from rasa[spacy]) (0.19.0)\n",
            "Requirement already satisfied: tensorflow-text==2.11.0 in /usr/local/lib/python3.10/dist-packages (from rasa[spacy]) (2.11.0)\n",
            "Requirement already satisfied: tensorflow_hub<0.13.0,>=0.12.0 in /usr/local/lib/python3.10/dist-packages (from rasa[spacy]) (0.12.0)\n",
            "Requirement already satisfied: terminaltables<3.2.0,>=3.1.0 in /usr/local/lib/python3.10/dist-packages (from rasa[spacy]) (3.1.10)\n",
            "Requirement already satisfied: tqdm<5.0,>=4.31 in /usr/local/lib/python3.10/dist-packages (from rasa[spacy]) (4.65.0)\n",
            "Requirement already satisfied: twilio<7.15,>=6.26 in /usr/local/lib/python3.10/dist-packages (from rasa[spacy]) (7.14.2)\n",
            "Requirement already satisfied: typing-extensions<5.0.0,>=4.1.1 in /usr/local/lib/python3.10/dist-packages (from rasa[spacy]) (4.5.0)\n",
            "Requirement already satisfied: typing-utils<0.2.0,>=0.1.0 in /usr/local/lib/python3.10/dist-packages (from rasa[spacy]) (0.1.0)\n",
            "Requirement already satisfied: ujson<6.0,>=1.35 in /usr/local/lib/python3.10/dist-packages (from rasa[spacy]) (5.8.0)\n",
            "Requirement already satisfied: webexteamssdk<1.7.0,>=1.1.1 in /usr/local/lib/python3.10/dist-packages (from rasa[spacy]) (1.6.1)\n",
            "Requirement already satisfied: websockets<11.0,>=10.0 in /usr/local/lib/python3.10/dist-packages (from rasa[spacy]) (10.4)\n",
            "Requirement already satisfied: spacy<3.5,>=3.1 in /usr/local/lib/python3.10/dist-packages (from rasa[spacy]) (3.4.4)\n",
            "Requirement already satisfied: click>=7.0 in /usr/local/lib/python3.10/dist-packages (from dask==2022.10.2->rasa[spacy]) (8.1.3)\n",
            "Requirement already satisfied: fsspec>=0.6.0 in /usr/local/lib/python3.10/dist-packages (from dask==2022.10.2->rasa[spacy]) (2023.4.0)\n",
            "Requirement already satisfied: partd>=0.3.10 in /usr/local/lib/python3.10/dist-packages (from dask==2022.10.2->rasa[spacy]) (1.4.0)\n",
            "Requirement already satisfied: pyyaml>=5.3.1 in /usr/local/lib/python3.10/dist-packages (from dask==2022.10.2->rasa[spacy]) (6.0)\n",
            "Requirement already satisfied: toolz>=0.8.2 in /usr/local/lib/python3.10/dist-packages (from dask==2022.10.2->rasa[spacy]) (0.12.0)\n",
            "Requirement already satisfied: astunparse>=1.6.0 in /usr/local/lib/python3.10/dist-packages (from tensorflow==2.11.0->rasa[spacy]) (1.6.3)\n",
            "Requirement already satisfied: flatbuffers>=2.0 in /usr/local/lib/python3.10/dist-packages (from tensorflow==2.11.0->rasa[spacy]) (23.3.3)\n",
            "Requirement already satisfied: gast<=0.4.0,>=0.2.1 in /usr/local/lib/python3.10/dist-packages (from tensorflow==2.11.0->rasa[spacy]) (0.4.0)\n",
            "Requirement already satisfied: google-pasta>=0.1.1 in /usr/local/lib/python3.10/dist-packages (from tensorflow==2.11.0->rasa[spacy]) (0.2.0)\n",
            "Requirement already satisfied: grpcio<2.0,>=1.24.3 in /usr/local/lib/python3.10/dist-packages (from tensorflow==2.11.0->rasa[spacy]) (1.54.0)\n",
            "Requirement already satisfied: h5py>=2.9.0 in /usr/local/lib/python3.10/dist-packages (from tensorflow==2.11.0->rasa[spacy]) (3.8.0)\n",
            "Requirement already satisfied: keras<2.12,>=2.11.0 in /usr/local/lib/python3.10/dist-packages (from tensorflow==2.11.0->rasa[spacy]) (2.11.0)\n",
            "Requirement already satisfied: libclang>=13.0.0 in /usr/local/lib/python3.10/dist-packages (from tensorflow==2.11.0->rasa[spacy]) (16.0.0)\n",
            "Requirement already satisfied: opt-einsum>=2.3.2 in /usr/local/lib/python3.10/dist-packages (from tensorflow==2.11.0->rasa[spacy]) (3.3.0)\n",
            "Requirement already satisfied: six>=1.12.0 in /usr/local/lib/python3.10/dist-packages (from tensorflow==2.11.0->rasa[spacy]) (1.16.0)\n",
            "Requirement already satisfied: tensorboard<2.12,>=2.11 in /usr/local/lib/python3.10/dist-packages (from tensorflow==2.11.0->rasa[spacy]) (2.11.2)\n",
            "Requirement already satisfied: tensorflow-estimator<2.12,>=2.11.0 in /usr/local/lib/python3.10/dist-packages (from tensorflow==2.11.0->rasa[spacy]) (2.11.0)\n",
            "Requirement already satisfied: termcolor>=1.1.0 in /usr/local/lib/python3.10/dist-packages (from tensorflow==2.11.0->rasa[spacy]) (2.3.0)\n",
            "Requirement already satisfied: wrapt>=1.11.0 in /usr/local/lib/python3.10/dist-packages (from tensorflow==2.11.0->rasa[spacy]) (1.14.1)\n",
            "Requirement already satisfied: tensorflow-io-gcs-filesystem>=0.23.1 in /usr/local/lib/python3.10/dist-packages (from tensorflow==2.11.0->rasa[spacy]) (0.32.0)\n",
            "Requirement already satisfied: aiormq~=6.4.0 in /usr/local/lib/python3.10/dist-packages (from aio-pika<8.2.4,>=6.7.1->rasa[spacy]) (6.4.2)\n",
            "Requirement already satisfied: yarl in /usr/local/lib/python3.10/dist-packages (from aio-pika<8.2.4,>=6.7.1->rasa[spacy]) (1.9.2)\n",
            "Requirement already satisfied: Babel<2.10.0,>=2.9.1 in /usr/local/lib/python3.10/dist-packages (from aiogram<2.26->rasa[spacy]) (2.9.1)\n",
            "Requirement already satisfied: certifi>=2021.10.8 in /usr/local/lib/python3.10/dist-packages (from aiogram<2.26->rasa[spacy]) (2022.12.7)\n",
            "Requirement already satisfied: magic-filter>=1.0.9 in /usr/local/lib/python3.10/dist-packages (from aiogram<2.26->rasa[spacy]) (1.0.9)\n",
            "Requirement already satisfied: charset-normalizer<4.0,>=2.0 in /usr/local/lib/python3.10/dist-packages (from aiohttp!=3.7.4.post0,<3.9,>=3.6->rasa[spacy]) (2.0.12)\n",
            "Requirement already satisfied: multidict<7.0,>=4.5 in /usr/local/lib/python3.10/dist-packages (from aiohttp!=3.7.4.post0,<3.9,>=3.6->rasa[spacy]) (5.2.0)\n",
            "Requirement already satisfied: async-timeout<5.0,>=4.0.0a3 in /usr/local/lib/python3.10/dist-packages (from aiohttp!=3.7.4.post0,<3.9,>=3.6->rasa[spacy]) (4.0.2)\n",
            "Requirement already satisfied: frozenlist>=1.1.1 in /usr/local/lib/python3.10/dist-packages (from aiohttp!=3.7.4.post0,<3.9,>=3.6->rasa[spacy]) (1.3.3)\n",
            "Requirement already satisfied: aiosignal>=1.1.2 in /usr/local/lib/python3.10/dist-packages (from aiohttp!=3.7.4.post0,<3.9,>=3.6->rasa[spacy]) (1.3.1)\n",
            "Requirement already satisfied: tzlocal!=3.*,>=2.0 in /usr/local/lib/python3.10/dist-packages (from apscheduler<3.10,>=3.6->rasa[spacy]) (4.3)\n",
            "Requirement already satisfied: botocore<1.30.0,>=1.29.151 in /usr/local/lib/python3.10/dist-packages (from boto3<2.0,>=1.12->rasa[spacy]) (1.29.151)\n",
            "Requirement already satisfied: jmespath<2.0.0,>=0.7.1 in /usr/local/lib/python3.10/dist-packages (from boto3<2.0,>=1.12->rasa[spacy]) (1.0.1)\n",
            "Requirement already satisfied: s3transfer<0.7.0,>=0.6.0 in /usr/local/lib/python3.10/dist-packages (from boto3<2.0,>=1.12->rasa[spacy]) (0.6.1)\n",
            "Requirement already satisfied: msgpack>=0.5.2 in /usr/local/lib/python3.10/dist-packages (from CacheControl<0.13.0,>=0.12.9->rasa[spacy]) (1.0.5)\n",
            "Requirement already satisfied: humanfriendly>=9.1 in /usr/local/lib/python3.10/dist-packages (from coloredlogs<16,>=10->rasa[spacy]) (10.0)\n",
            "Requirement already satisfied: cachetools<6.0,>=2.0.0 in /usr/local/lib/python3.10/dist-packages (from google-auth<3->rasa[spacy]) (5.3.0)\n",
            "Requirement already satisfied: pyasn1-modules>=0.2.1 in /usr/local/lib/python3.10/dist-packages (from google-auth<3->rasa[spacy]) (0.3.0)\n",
            "Requirement already satisfied: rsa<5,>=3.1.4 in /usr/local/lib/python3.10/dist-packages (from google-auth<3->rasa[spacy]) (4.9)\n",
            "Requirement already satisfied: pyrsistent!=0.17.0,!=0.17.1,!=0.17.2,>=0.14.0 in /usr/local/lib/python3.10/dist-packages (from jsonschema<4.18,>=3.2->rasa[spacy]) (0.19.3)\n",
            "Requirement already satisfied: cycler>=0.10 in /usr/local/lib/python3.10/dist-packages (from matplotlib<3.6,>=3.1->rasa[spacy]) (0.11.0)\n",
            "Requirement already satisfied: fonttools>=4.22.0 in /usr/local/lib/python3.10/dist-packages (from matplotlib<3.6,>=3.1->rasa[spacy]) (4.39.3)\n",
            "Requirement already satisfied: kiwisolver>=1.0.1 in /usr/local/lib/python3.10/dist-packages (from matplotlib<3.6,>=3.1->rasa[spacy]) (1.4.4)\n",
            "Requirement already satisfied: pillow>=6.2.0 in /usr/local/lib/python3.10/dist-packages (from matplotlib<3.6,>=3.1->rasa[spacy]) (8.4.0)\n",
            "Requirement already satisfied: pyparsing>=2.2.1 in /usr/local/lib/python3.10/dist-packages (from matplotlib<3.6,>=3.1->rasa[spacy]) (3.0.9)\n",
            "Requirement already satisfied: wcwidth in /usr/local/lib/python3.10/dist-packages (from prompt-toolkit<3.0.29,>=3.0->rasa[spacy]) (0.2.6)\n",
            "Requirement already satisfied: cryptography>=3.4.0 in /usr/local/lib/python3.10/dist-packages (from PyJWT[crypto]<3.0.0,>=2.0.0->rasa[spacy]) (40.0.2)\n",
            "Requirement already satisfied: docopt>=0.6.2 in /usr/local/lib/python3.10/dist-packages (from pykwalify<1.9,>=1.7->rasa[spacy]) (0.6.2)\n",
            "Requirement already satisfied: dnspython<2.0.0,>=1.16.0 in /usr/local/lib/python3.10/dist-packages (from pymongo[srv,tls]<3.11,>=3.8->rasa[spacy]) (1.16.0)\n",
            "Requirement already satisfied: bidict>=0.21.0 in /usr/local/lib/python3.10/dist-packages (from python-socketio<6,>=4.4->rasa[spacy]) (0.22.1)\n",
            "Requirement already satisfied: fire in /usr/local/lib/python3.10/dist-packages (from randomname<0.2.0,>=0.1.5->rasa[spacy]) (0.5.0)\n",
            "Requirement already satisfied: urllib3<1.27,>=1.21.1 in /usr/local/lib/python3.10/dist-packages (from requests<3.0,>=2.23->rasa[spacy]) (1.26.15)\n",
            "Requirement already satisfied: idna<4,>=2.5 in /usr/local/lib/python3.10/dist-packages (from requests<3.0,>=2.23->rasa[spacy]) (3.4)\n",
            "Requirement already satisfied: ruamel.yaml.clib>=0.2.7 in /usr/local/lib/python3.10/dist-packages (from ruamel.yaml<0.18.0,>=0.16.5->rasa[spacy]) (0.2.7)\n",
            "Requirement already satisfied: httptools>=0.0.10 in /usr/local/lib/python3.10/dist-packages (from sanic<21.13,>=21.12->rasa[spacy]) (0.5.0)\n",
            "Requirement already satisfied: aiofiles>=0.6.0 in /usr/local/lib/python3.10/dist-packages (from sanic<21.13,>=21.12->rasa[spacy]) (23.1.0)\n",
            "Requirement already satisfied: uvloop>=0.5.3 in /usr/local/lib/python3.10/dist-packages (from sanic<21.13,>=21.12->rasa[spacy]) (0.17.0)\n",
            "Requirement already satisfied: threadpoolctl>=2.0.0 in /usr/local/lib/python3.10/dist-packages (from scikit-learn<1.2,>=0.22->rasa[spacy]) (3.1.0)\n",
            "Requirement already satisfied: python-crfsuite>=0.8.3 in /usr/local/lib/python3.10/dist-packages (from sklearn-crfsuite<0.4,>=0.3->rasa[spacy]) (0.9.9)\n",
            "Requirement already satisfied: tabulate in /usr/local/lib/python3.10/dist-packages (from sklearn-crfsuite<0.4,>=0.3->rasa[spacy]) (0.8.10)\n",
            "Requirement already satisfied: spacy-legacy<3.1.0,>=3.0.10 in /usr/local/lib/python3.10/dist-packages (from spacy<3.5,>=3.1->rasa[spacy]) (3.0.12)\n",
            "Requirement already satisfied: spacy-loggers<2.0.0,>=1.0.0 in /usr/local/lib/python3.10/dist-packages (from spacy<3.5,>=3.1->rasa[spacy]) (1.0.4)\n",
            "Requirement already satisfied: murmurhash<1.1.0,>=0.28.0 in /usr/local/lib/python3.10/dist-packages (from spacy<3.5,>=3.1->rasa[spacy]) (1.0.9)\n",
            "Requirement already satisfied: cymem<2.1.0,>=2.0.2 in /usr/local/lib/python3.10/dist-packages (from spacy<3.5,>=3.1->rasa[spacy]) (2.0.7)\n",
            "Requirement already satisfied: preshed<3.1.0,>=3.0.2 in /usr/local/lib/python3.10/dist-packages (from spacy<3.5,>=3.1->rasa[spacy]) (3.0.8)\n",
            "Requirement already satisfied: thinc<8.2.0,>=8.1.0 in /usr/local/lib/python3.10/dist-packages (from spacy<3.5,>=3.1->rasa[spacy]) (8.1.9)\n",
            "Requirement already satisfied: wasabi<1.1.0,>=0.9.1 in /usr/local/lib/python3.10/dist-packages (from spacy<3.5,>=3.1->rasa[spacy]) (0.10.1)\n",
            "Requirement already satisfied: srsly<3.0.0,>=2.4.3 in /usr/local/lib/python3.10/dist-packages (from spacy<3.5,>=3.1->rasa[spacy]) (2.4.6)\n",
            "Requirement already satisfied: catalogue<2.1.0,>=2.0.6 in /usr/local/lib/python3.10/dist-packages (from spacy<3.5,>=3.1->rasa[spacy]) (2.0.8)\n",
            "Requirement already satisfied: typer<0.8.0,>=0.3.0 in /usr/local/lib/python3.10/dist-packages (from spacy<3.5,>=3.1->rasa[spacy]) (0.7.0)\n",
            "Requirement already satisfied: pathy>=0.3.5 in /usr/local/lib/python3.10/dist-packages (from spacy<3.5,>=3.1->rasa[spacy]) (0.10.1)\n",
            "Requirement already satisfied: smart-open<7.0.0,>=5.2.1 in /usr/local/lib/python3.10/dist-packages (from spacy<3.5,>=3.1->rasa[spacy]) (6.3.0)\n",
            "Requirement already satisfied: jinja2 in /usr/local/lib/python3.10/dist-packages (from spacy<3.5,>=3.1->rasa[spacy]) (3.1.2)\n",
            "Requirement already satisfied: langcodes<4.0.0,>=3.2.0 in /usr/local/lib/python3.10/dist-packages (from spacy<3.5,>=3.1->rasa[spacy]) (3.3.0)\n",
            "Requirement already satisfied: greenlet!=0.4.17 in /usr/local/lib/python3.10/dist-packages (from SQLAlchemy<1.5.0,>=1.4.0->rasa[spacy]) (2.0.2)\n",
            "Requirement already satisfied: typeguard>=2.7 in /usr/local/lib/python3.10/dist-packages (from tensorflow-addons<0.20,>=0.18->rasa[spacy]) (4.0.0)\n",
            "Requirement already satisfied: future in /usr/local/lib/python3.10/dist-packages (from webexteamssdk<1.7.0,>=1.1.1->rasa[spacy]) (0.18.3)\n",
            "Requirement already satisfied: requests-toolbelt in /usr/local/lib/python3.10/dist-packages (from webexteamssdk<1.7.0,>=1.1.1->rasa[spacy]) (1.0.0)\n",
            "Requirement already satisfied: pamqp==3.2.1 in /usr/local/lib/python3.10/dist-packages (from aiormq~=6.4.0->aio-pika<8.2.4,>=6.7.1->rasa[spacy]) (3.2.1)\n",
            "Requirement already satisfied: wheel<1.0,>=0.23.0 in /usr/local/lib/python3.10/dist-packages (from astunparse>=1.6.0->tensorflow==2.11.0->rasa[spacy]) (0.40.0)\n",
            "Requirement already satisfied: cffi>=1.12 in /usr/local/lib/python3.10/dist-packages (from cryptography>=3.4.0->PyJWT[crypto]<3.0.0,>=2.0.0->rasa[spacy]) (1.15.1)\n",
            "Requirement already satisfied: locket in /usr/local/lib/python3.10/dist-packages (from partd>=0.3.10->dask==2022.10.2->rasa[spacy]) (1.0.0)\n",
            "Requirement already satisfied: pyasn1<0.6.0,>=0.4.6 in /usr/local/lib/python3.10/dist-packages (from pyasn1-modules>=0.2.1->google-auth<3->rasa[spacy]) (0.5.0)\n",
            "Requirement already satisfied: google-auth-oauthlib<0.5,>=0.4.1 in /usr/local/lib/python3.10/dist-packages (from tensorboard<2.12,>=2.11->tensorflow==2.11.0->rasa[spacy]) (0.4.6)\n",
            "Requirement already satisfied: markdown>=2.6.8 in /usr/local/lib/python3.10/dist-packages (from tensorboard<2.12,>=2.11->tensorflow==2.11.0->rasa[spacy]) (3.4.3)\n",
            "Requirement already satisfied: tensorboard-data-server<0.7.0,>=0.6.0 in /usr/local/lib/python3.10/dist-packages (from tensorboard<2.12,>=2.11->tensorflow==2.11.0->rasa[spacy]) (0.6.1)\n",
            "Requirement already satisfied: tensorboard-plugin-wit>=1.6.0 in /usr/local/lib/python3.10/dist-packages (from tensorboard<2.12,>=2.11->tensorflow==2.11.0->rasa[spacy]) (1.8.1)\n",
            "Requirement already satisfied: werkzeug>=1.0.1 in /usr/local/lib/python3.10/dist-packages (from tensorboard<2.12,>=2.11->tensorflow==2.11.0->rasa[spacy]) (2.3.0)\n",
            "Requirement already satisfied: blis<0.8.0,>=0.7.8 in /usr/local/lib/python3.10/dist-packages (from thinc<8.2.0,>=8.1.0->spacy<3.5,>=3.1->rasa[spacy]) (0.7.9)\n",
            "Requirement already satisfied: confection<1.0.0,>=0.0.1 in /usr/local/lib/python3.10/dist-packages (from thinc<8.2.0,>=8.1.0->spacy<3.5,>=3.1->rasa[spacy]) (0.0.4)\n",
            "Requirement already satisfied: pytz-deprecation-shim in /usr/local/lib/python3.10/dist-packages (from tzlocal!=3.*,>=2.0->apscheduler<3.10,>=3.6->rasa[spacy]) (0.1.0.post0)\n",
            "Requirement already satisfied: MarkupSafe>=2.0 in /usr/local/lib/python3.10/dist-packages (from jinja2->spacy<3.5,>=3.1->rasa[spacy]) (2.1.2)\n",
            "Requirement already satisfied: pycparser in /usr/local/lib/python3.10/dist-packages (from cffi>=1.12->cryptography>=3.4.0->PyJWT[crypto]<3.0.0,>=2.0.0->rasa[spacy]) (2.21)\n",
            "Requirement already satisfied: requests-oauthlib>=0.7.0 in /usr/local/lib/python3.10/dist-packages (from google-auth-oauthlib<0.5,>=0.4.1->tensorboard<2.12,>=2.11->tensorflow==2.11.0->rasa[spacy]) (1.3.1)\n",
            "Requirement already satisfied: tzdata in /usr/local/lib/python3.10/dist-packages (from pytz-deprecation-shim->tzlocal!=3.*,>=2.0->apscheduler<3.10,>=3.6->rasa[spacy]) (2023.3)\n",
            "Requirement already satisfied: oauthlib>=3.0.0 in /usr/local/lib/python3.10/dist-packages (from requests-oauthlib>=0.7.0->google-auth-oauthlib<0.5,>=0.4.1->tensorboard<2.12,>=2.11->tensorflow==2.11.0->rasa[spacy]) (3.2.2)\n",
            "2023-06-11 17:51:27.667668: I tensorflow/core/platform/cpu_feature_guard.cc:193] This TensorFlow binary is optimized with oneAPI Deep Neural Network Library (oneDNN) to use the following CPU instructions in performance-critical operations:  AVX2 FMA\n",
            "To enable them in other operations, rebuild TensorFlow with the appropriate compiler flags.\n",
            "2023-06-11 17:51:29.197275: W tensorflow/compiler/xla/stream_executor/platform/default/dso_loader.cc:64] Could not load dynamic library 'libnvinfer.so.7'; dlerror: libnvinfer.so.7: cannot open shared object file: No such file or directory; LD_LIBRARY_PATH: /usr/lib64-nvidia\n",
            "2023-06-11 17:51:29.197513: W tensorflow/compiler/xla/stream_executor/platform/default/dso_loader.cc:64] Could not load dynamic library 'libnvinfer_plugin.so.7'; dlerror: libnvinfer_plugin.so.7: cannot open shared object file: No such file or directory; LD_LIBRARY_PATH: /usr/lib64-nvidia\n",
            "2023-06-11 17:51:29.197554: W tensorflow/compiler/tf2tensorrt/utils/py_utils.cc:38] TF-TRT Warning: Cannot dlopen some TensorRT libraries. If you would like to use Nvidia GPU with TensorRT, please make sure the missing libraries mentioned above are installed properly.\n",
            "Looking in indexes: https://pypi.org/simple, https://us-python.pkg.dev/colab-wheels/public/simple/\n",
            "Collecting en-core-web-md==3.4.1\n",
            "  Downloading https://github.com/explosion/spacy-models/releases/download/en_core_web_md-3.4.1/en_core_web_md-3.4.1-py3-none-any.whl (42.8 MB)\n",
            "\u001b[2K     \u001b[90m━━━━━━━━━━━━━━━━━━━━━━━━━━━━━━━━━━━━━━━━\u001b[0m \u001b[32m42.8/42.8 MB\u001b[0m \u001b[31m11.2 MB/s\u001b[0m eta \u001b[36m0:00:00\u001b[0m\n",
            "\u001b[?25hRequirement already satisfied: spacy<3.5.0,>=3.4.0 in /usr/local/lib/python3.10/dist-packages (from en-core-web-md==3.4.1) (3.4.4)\n",
            "Requirement already satisfied: spacy-legacy<3.1.0,>=3.0.10 in /usr/local/lib/python3.10/dist-packages (from spacy<3.5.0,>=3.4.0->en-core-web-md==3.4.1) (3.0.12)\n",
            "Requirement already satisfied: spacy-loggers<2.0.0,>=1.0.0 in /usr/local/lib/python3.10/dist-packages (from spacy<3.5.0,>=3.4.0->en-core-web-md==3.4.1) (1.0.4)\n",
            "Requirement already satisfied: murmurhash<1.1.0,>=0.28.0 in /usr/local/lib/python3.10/dist-packages (from spacy<3.5.0,>=3.4.0->en-core-web-md==3.4.1) (1.0.9)\n",
            "Requirement already satisfied: cymem<2.1.0,>=2.0.2 in /usr/local/lib/python3.10/dist-packages (from spacy<3.5.0,>=3.4.0->en-core-web-md==3.4.1) (2.0.7)\n",
            "Requirement already satisfied: preshed<3.1.0,>=3.0.2 in /usr/local/lib/python3.10/dist-packages (from spacy<3.5.0,>=3.4.0->en-core-web-md==3.4.1) (3.0.8)\n",
            "Requirement already satisfied: thinc<8.2.0,>=8.1.0 in /usr/local/lib/python3.10/dist-packages (from spacy<3.5.0,>=3.4.0->en-core-web-md==3.4.1) (8.1.9)\n",
            "Requirement already satisfied: wasabi<1.1.0,>=0.9.1 in /usr/local/lib/python3.10/dist-packages (from spacy<3.5.0,>=3.4.0->en-core-web-md==3.4.1) (0.10.1)\n",
            "Requirement already satisfied: srsly<3.0.0,>=2.4.3 in /usr/local/lib/python3.10/dist-packages (from spacy<3.5.0,>=3.4.0->en-core-web-md==3.4.1) (2.4.6)\n",
            "Requirement already satisfied: catalogue<2.1.0,>=2.0.6 in /usr/local/lib/python3.10/dist-packages (from spacy<3.5.0,>=3.4.0->en-core-web-md==3.4.1) (2.0.8)\n",
            "Requirement already satisfied: typer<0.8.0,>=0.3.0 in /usr/local/lib/python3.10/dist-packages (from spacy<3.5.0,>=3.4.0->en-core-web-md==3.4.1) (0.7.0)\n",
            "Requirement already satisfied: pathy>=0.3.5 in /usr/local/lib/python3.10/dist-packages (from spacy<3.5.0,>=3.4.0->en-core-web-md==3.4.1) (0.10.1)\n",
            "Requirement already satisfied: smart-open<7.0.0,>=5.2.1 in /usr/local/lib/python3.10/dist-packages (from spacy<3.5.0,>=3.4.0->en-core-web-md==3.4.1) (6.3.0)\n",
            "Requirement already satisfied: tqdm<5.0.0,>=4.38.0 in /usr/local/lib/python3.10/dist-packages (from spacy<3.5.0,>=3.4.0->en-core-web-md==3.4.1) (4.65.0)\n",
            "Requirement already satisfied: numpy>=1.15.0 in /usr/local/lib/python3.10/dist-packages (from spacy<3.5.0,>=3.4.0->en-core-web-md==3.4.1) (1.22.4)\n",
            "Requirement already satisfied: requests<3.0.0,>=2.13.0 in /usr/local/lib/python3.10/dist-packages (from spacy<3.5.0,>=3.4.0->en-core-web-md==3.4.1) (2.27.1)\n",
            "Requirement already satisfied: pydantic!=1.8,!=1.8.1,<1.11.0,>=1.7.4 in /usr/local/lib/python3.10/dist-packages (from spacy<3.5.0,>=3.4.0->en-core-web-md==3.4.1) (1.10.2)\n",
            "Requirement already satisfied: jinja2 in /usr/local/lib/python3.10/dist-packages (from spacy<3.5.0,>=3.4.0->en-core-web-md==3.4.1) (3.1.2)\n",
            "Requirement already satisfied: setuptools in /usr/local/lib/python3.10/dist-packages (from spacy<3.5.0,>=3.4.0->en-core-web-md==3.4.1) (67.7.2)\n",
            "Requirement already satisfied: packaging>=20.0 in /usr/local/lib/python3.10/dist-packages (from spacy<3.5.0,>=3.4.0->en-core-web-md==3.4.1) (20.9)\n",
            "Requirement already satisfied: langcodes<4.0.0,>=3.2.0 in /usr/local/lib/python3.10/dist-packages (from spacy<3.5.0,>=3.4.0->en-core-web-md==3.4.1) (3.3.0)\n",
            "Requirement already satisfied: pyparsing>=2.0.2 in /usr/local/lib/python3.10/dist-packages (from packaging>=20.0->spacy<3.5.0,>=3.4.0->en-core-web-md==3.4.1) (3.0.9)\n",
            "Requirement already satisfied: typing-extensions>=4.1.0 in /usr/local/lib/python3.10/dist-packages (from pydantic!=1.8,!=1.8.1,<1.11.0,>=1.7.4->spacy<3.5.0,>=3.4.0->en-core-web-md==3.4.1) (4.5.0)\n",
            "Requirement already satisfied: urllib3<1.27,>=1.21.1 in /usr/local/lib/python3.10/dist-packages (from requests<3.0.0,>=2.13.0->spacy<3.5.0,>=3.4.0->en-core-web-md==3.4.1) (1.26.15)\n",
            "Requirement already satisfied: certifi>=2017.4.17 in /usr/local/lib/python3.10/dist-packages (from requests<3.0.0,>=2.13.0->spacy<3.5.0,>=3.4.0->en-core-web-md==3.4.1) (2022.12.7)\n",
            "Requirement already satisfied: charset-normalizer~=2.0.0 in /usr/local/lib/python3.10/dist-packages (from requests<3.0.0,>=2.13.0->spacy<3.5.0,>=3.4.0->en-core-web-md==3.4.1) (2.0.12)\n",
            "Requirement already satisfied: idna<4,>=2.5 in /usr/local/lib/python3.10/dist-packages (from requests<3.0.0,>=2.13.0->spacy<3.5.0,>=3.4.0->en-core-web-md==3.4.1) (3.4)\n",
            "Requirement already satisfied: blis<0.8.0,>=0.7.8 in /usr/local/lib/python3.10/dist-packages (from thinc<8.2.0,>=8.1.0->spacy<3.5.0,>=3.4.0->en-core-web-md==3.4.1) (0.7.9)\n",
            "Requirement already satisfied: confection<1.0.0,>=0.0.1 in /usr/local/lib/python3.10/dist-packages (from thinc<8.2.0,>=8.1.0->spacy<3.5.0,>=3.4.0->en-core-web-md==3.4.1) (0.0.4)\n",
            "Requirement already satisfied: click<9.0.0,>=7.1.1 in /usr/local/lib/python3.10/dist-packages (from typer<0.8.0,>=0.3.0->spacy<3.5.0,>=3.4.0->en-core-web-md==3.4.1) (8.1.3)\n",
            "Requirement already satisfied: MarkupSafe>=2.0 in /usr/local/lib/python3.10/dist-packages (from jinja2->spacy<3.5.0,>=3.4.0->en-core-web-md==3.4.1) (2.1.2)\n",
            "Installing collected packages: en-core-web-md\n",
            "Successfully installed en-core-web-md-3.4.1\n",
            "\u001b[38;5;2m✔ Download and installation successful\u001b[0m\n",
            "You can now load the package via spacy.load('en_core_web_md')\n"
          ]
        }
      ]
    },
    {
      "cell_type": "code",
      "source": [
        "!pip3 install git+https://github.com/mit-nlp/MITIE.git\n",
        "!pip3 install rasa[mitie]"
      ],
      "metadata": {
        "id": "C5EjSfO8C2Hs"
      },
      "execution_count": null,
      "outputs": []
    },
    {
      "cell_type": "code",
      "source": [
        "!wget https://artifacts.elastic.co/downloads/elasticsearch/elasticsearch-8.8.1-linux-x86_64.tar.gz\n",
        "!wget https://artifacts.elastic.co/downloads/elasticsearch/elasticsearch-8.8.1-linux-x86_64.tar.gz.sha512\n",
        "!shasum -a 512 -c elasticsearch-8.8.1-linux-x86_64.tar.gz.sha512 \n",
        "!tar -xzf elasticsearch-8.8.1-linux-x86_64.tar.gz\n",
        "!cd elasticsearch-8.8.1/ \n",
        "!ls"
      ],
      "metadata": {
        "id": "ijSEEYVqEHfG"
      },
      "execution_count": null,
      "outputs": []
    },
    {
      "cell_type": "code",
      "source": [
        "!pip install --upgrade packaging\n",
        "!pip install --upgrade rasa"
      ],
      "metadata": {
        "id": "IjWh4o2tGDCR"
      },
      "execution_count": null,
      "outputs": []
    },
    {
      "cell_type": "markdown",
      "source": [
        "###Install Haystack:"
      ],
      "metadata": {
        "id": "bGT4ZFhzkS-1"
      }
    },
    {
      "cell_type": "code",
      "source": [
        "!pip install --upgrade pip\n",
        "!pip install 'farm-haystack[all]'"
      ],
      "metadata": {
        "id": "jWokDHOsC-KX"
      },
      "execution_count": null,
      "outputs": []
    },
    {
      "cell_type": "markdown",
      "source": [
        "###Train Rasa \n",
        "Navigiere in den gDrive Projektordner # gib den Pfad zum Bot an /content/drive/My Drive/Github - huckles-learning-lab/\"Pfad zum Bot\""
      ],
      "metadata": {
        "id": "jRlWPb1rKBIy"
      }
    },
    {
      "cell_type": "code",
      "source": [
        "%cd /content/drive/My Drive/Huckles-learning-lab/RHEAB/rasa-main-bot-test-2"
      ],
      "metadata": {
        "id": "Z-psQDj8GxsN",
        "colab": {
          "base_uri": "https://localhost:8080/"
        },
        "outputId": "c1d811e7-9ae1-4c0f-a8d4-c2ba9eab431d"
      },
      "execution_count": null,
      "outputs": [
        {
          "output_type": "stream",
          "name": "stdout",
          "text": [
            "/content/drive/My Drive/Huckles-learning-lab/RHEAB/rasa-main-bot-test-2\n"
          ]
        }
      ]
    },
    {
      "cell_type": "code",
      "source": [
        "!rasa data validate"
      ],
      "metadata": {
        "id": "U_fAsTdKgAOy",
        "colab": {
          "base_uri": "https://localhost:8080/"
        },
        "outputId": "74d99be6-1868-41b9-8561-2e287648eede"
      },
      "execution_count": null,
      "outputs": [
        {
          "output_type": "stream",
          "name": "stdout",
          "text": [
            "/usr/local/lib/python3.10/dist-packages/rasa/core/tracker_store.py:1048: MovedIn20Warning: \u001b[31mDeprecated API features detected! These feature(s) are not compatible with SQLAlchemy 2.0. \u001b[32mTo prevent incompatible upgrades prior to updating applications, ensure requirements files are pinned to \"sqlalchemy<2.0\". \u001b[36mSet environment variable SQLALCHEMY_WARN_20=1 to show all deprecation warnings.  Set environment variable SQLALCHEMY_SILENCE_UBER_WARNING=1 to silence this message.\u001b[0m (Background on SQLAlchemy 2.0 at: https://sqlalche.me/e/b8d9)\n",
            "  Base: DeclarativeMeta = declarative_base()\n",
            "\u001b(0lqqqqqqqqqqqqqqqqqqqqqqqqqqqqqqqqqqqqqqqqqqqqqqqqqqqqqqqqqqqqqqqqqqqqqqqqqqqqqqqqk\u001b(B\n",
            "\u001b(0x\u001b(B Rasa Open Source reports anonymous usage telemetry to help improve the product \u001b(0x\u001b(B\n",
            "\u001b(0x\u001b(B for all its users.                                                             \u001b(0x\u001b(B\n",
            "\u001b(0x\u001b(B                                                                                \u001b(0x\u001b(B\n",
            "\u001b(0x\u001b(B If you'd like to opt-out, you can use `rasa telemetry disable`.                \u001b(0x\u001b(B\n",
            "\u001b(0x\u001b(B To learn more, check out https://rasa.com/docs/rasa/telemetry/telemetry.       \u001b(0x\u001b(B\n",
            "\u001b(0mqqqqqqqqqqqqqqqqqqqqqqqqqqqqqqqqqqqqqqqqqqqqqqqqqqqqqqqqqqqqqqqqqqqqqqqqqqqqqqqqj\u001b(B\n",
            "/usr/local/lib/python3.10/dist-packages/pkg_resources/__init__.py:121: DeprecationWarning: pkg_resources is deprecated as an API\n",
            "  warnings.warn(\"pkg_resources is deprecated as an API\", DeprecationWarning)\n",
            "/usr/local/lib/python3.10/dist-packages/pkg_resources/__init__.py:2870: DeprecationWarning: Deprecated call to `pkg_resources.declare_namespace('google')`.\n",
            "Implementing implicit namespace packages (as specified in PEP 420) is preferred to `pkg_resources.declare_namespace`. See https://setuptools.pypa.io/en/latest/references/keywords.html#keyword-namespace-packages\n",
            "  declare_namespace(pkg)\n",
            "/usr/local/lib/python3.10/dist-packages/pkg_resources/__init__.py:2870: DeprecationWarning: Deprecated call to `pkg_resources.declare_namespace('google.cloud')`.\n",
            "Implementing implicit namespace packages (as specified in PEP 420) is preferred to `pkg_resources.declare_namespace`. See https://setuptools.pypa.io/en/latest/references/keywords.html#keyword-namespace-packages\n",
            "  declare_namespace(pkg)\n",
            "/usr/local/lib/python3.10/dist-packages/pkg_resources/__init__.py:2870: DeprecationWarning: Deprecated call to `pkg_resources.declare_namespace('google.logging')`.\n",
            "Implementing implicit namespace packages (as specified in PEP 420) is preferred to `pkg_resources.declare_namespace`. See https://setuptools.pypa.io/en/latest/references/keywords.html#keyword-namespace-packages\n",
            "  declare_namespace(pkg)\n",
            "/usr/local/lib/python3.10/dist-packages/pkg_resources/__init__.py:2870: DeprecationWarning: Deprecated call to `pkg_resources.declare_namespace('mpl_toolkits')`.\n",
            "Implementing implicit namespace packages (as specified in PEP 420) is preferred to `pkg_resources.declare_namespace`. See https://setuptools.pypa.io/en/latest/references/keywords.html#keyword-namespace-packages\n",
            "  declare_namespace(pkg)\n",
            "/usr/local/lib/python3.10/dist-packages/pkg_resources/__init__.py:2870: DeprecationWarning: Deprecated call to `pkg_resources.declare_namespace('ruamel')`.\n",
            "Implementing implicit namespace packages (as specified in PEP 420) is preferred to `pkg_resources.declare_namespace`. See https://setuptools.pypa.io/en/latest/references/keywords.html#keyword-namespace-packages\n",
            "  declare_namespace(pkg)\n",
            "/usr/local/lib/python3.10/dist-packages/pkg_resources/__init__.py:2870: DeprecationWarning: Deprecated call to `pkg_resources.declare_namespace('ruamel.yaml')`.\n",
            "Implementing implicit namespace packages (as specified in PEP 420) is preferred to `pkg_resources.declare_namespace`. See https://setuptools.pypa.io/en/latest/references/keywords.html#keyword-namespace-packages\n",
            "  declare_namespace(pkg)\n",
            "/usr/local/lib/python3.10/dist-packages/pkg_resources/__init__.py:2870: DeprecationWarning: Deprecated call to `pkg_resources.declare_namespace('sphinxcontrib')`.\n",
            "Implementing implicit namespace packages (as specified in PEP 420) is preferred to `pkg_resources.declare_namespace`. See https://setuptools.pypa.io/en/latest/references/keywords.html#keyword-namespace-packages\n",
            "  declare_namespace(pkg)\n",
            "2023-06-11 18:01:31 \u001b[1;30mINFO    \u001b[0m \u001b[34mnumexpr.utils\u001b[0m  - NumExpr defaulting to 2 threads.\n",
            "/usr/local/lib/python3.10/dist-packages/packaging/version.py:127: DeprecationWarning: Creating a LegacyVersion has been deprecated and will be removed in the next major release\n",
            "  warnings.warn(\n",
            "\u001b[93m/usr/local/lib/python3.10/dist-packages/rasa/shared/utils/io.py:99: UserWarning: Training data file /content/drive/My Drive/Huckles-learning-lab/RHEAB/rasa-main-bot-test-2/domain.yml must specify 'version' as string, for example:\n",
            "version: '3.1'\n",
            "Rasa Open Source will read the file as a version '3.1' file.\n",
            "  More info at https://rasa.com/docs/rasa/training-data-format\n",
            "\u001b[0m\u001b[93m/usr/local/lib/python3.10/dist-packages/rasa/shared/utils/io.py:99: UserWarning: Training data file /content/drive/My Drive/Huckles-learning-lab/RHEAB/rasa-main-bot-test-2/data/nlu.yml has a lower format version than your Rasa Open Source installation: 2.0 < 3.1. Rasa Open Source will read the file as a version 3.1 file. Please update your version key to 3.1. See https://rasa.com/docs/rasa/training-data-format.\n",
            "\u001b[0m\u001b[93m/usr/local/lib/python3.10/dist-packages/rasa/shared/utils/io.py:99: UserWarning: Action 'utter_ask_document_name' is listed as a response action in the domain file, but there is no matching response defined. Please check your domain.\n",
            "  More info at https://rasa.com/docs/rasa/responses\n",
            "\u001b[0m\u001b[93m/usr/local/lib/python3.10/dist-packages/rasa/shared/utils/io.py:99: UserWarning: Action 'utter_ask_document_text' is listed as a response action in the domain file, but there is no matching response defined. Please check your domain.\n",
            "  More info at https://rasa.com/docs/rasa/responses\n",
            "\u001b[0m\u001b[93m/usr/local/lib/python3.10/dist-packages/rasa/shared/utils/io.py:99: UserWarning: Training data file /content/drive/My Drive/Huckles-learning-lab/RHEAB/rasa-main-bot-test-2/data/rules.yml has a lower format version than your Rasa Open Source installation: 2.0 < 3.1. Rasa Open Source will read the file as a version 3.1 file. Please update your version key to 3.1. See https://rasa.com/docs/rasa/training-data-format.\n",
            "\u001b[0m\u001b[93m/usr/local/lib/python3.10/dist-packages/rasa/shared/utils/io.py:99: UserWarning: Training data file /content/drive/My Drive/Huckles-learning-lab/RHEAB/rasa-main-bot-test-2/data/stories.yml has a lower format version than your Rasa Open Source installation: 2.0 < 3.1. Rasa Open Source will read the file as a version 3.1 file. Please update your version key to 3.1. See https://rasa.com/docs/rasa/training-data-format.\n",
            "\u001b[0m\u001b[93m/usr/local/lib/python3.10/dist-packages/rasa/shared/utils/io.py:99: UserWarning: Issue found in 'data/stories.yml': \n",
            "Found intent 'interrupt' in stories which is not part of the domain.\n",
            "  More info at https://rasa.com/docs/rasa/stories\n",
            "\u001b[0m\u001b[93m/usr/local/lib/python3.10/dist-packages/rasa/shared/utils/io.py:99: UserWarning: Issue found in 'data/stories.yml': \n",
            "Found intent 'welcher_slave_bot' in stories which is not part of the domain.\n",
            "  More info at https://rasa.com/docs/rasa/stories\n",
            "\u001b[0m\u001b[93m/usr/local/lib/python3.10/dist-packages/rasa/shared/utils/io.py:99: UserWarning: Issue found in 'data/stories.yml': \n",
            "Found intent 'start_slave_bot' in stories which is not part of the domain.\n",
            "  More info at https://rasa.com/docs/rasa/stories\n",
            "\u001b[0m\u001b[93m/usr/local/lib/python3.10/dist-packages/rasa/shared/utils/io.py:99: UserWarning: Issue found in 'data/stories.yml': \n",
            "Found intent 'stop_slave_bot' in stories which is not part of the domain.\n",
            "  More info at https://rasa.com/docs/rasa/stories\n",
            "\u001b[0m2023-06-11 18:01:37 \u001b[1;30mINFO    \u001b[0m \u001b[34mrasa.validator\u001b[0m  - Validating intents...\n",
            "\u001b[93m/usr/local/lib/python3.10/dist-packages/rasa/shared/utils/io.py:99: UserWarning: There is a message in the training data labeled with intent 'stop_slave_bot'. This intent is not listed in your domain. You should need to add that intent to your domain file!\n",
            "  More info at https://rasa.com/docs/rasa/domain\n",
            "\u001b[0m\u001b[93m/usr/local/lib/python3.10/dist-packages/rasa/shared/utils/io.py:99: UserWarning: There is a message in the training data labeled with intent 'start_slave_bot'. This intent is not listed in your domain. You should need to add that intent to your domain file!\n",
            "  More info at https://rasa.com/docs/rasa/domain\n",
            "\u001b[0m\u001b[93m/usr/local/lib/python3.10/dist-packages/rasa/shared/utils/io.py:99: UserWarning: There is a message in the training data labeled with intent 'welcher_slave_bot'. This intent is not listed in your domain. You should need to add that intent to your domain file!\n",
            "  More info at https://rasa.com/docs/rasa/domain\n",
            "\u001b[0m\u001b[93m/usr/local/lib/python3.10/dist-packages/rasa/shared/utils/io.py:99: UserWarning: The intent 'interrupt' is used in your stories, but it is not listed in the domain file. You should add it to your domain file!\n",
            "  More info at https://rasa.com/docs/rasa/domain\n",
            "\u001b[0m\u001b[93m/usr/local/lib/python3.10/dist-packages/rasa/shared/utils/io.py:99: UserWarning: The intent 'stop_slave_bot' is used in your stories, but it is not listed in the domain file. You should add it to your domain file!\n",
            "  More info at https://rasa.com/docs/rasa/domain\n",
            "\u001b[0m\u001b[93m/usr/local/lib/python3.10/dist-packages/rasa/shared/utils/io.py:99: UserWarning: The intent 'start_slave_bot' is used in your stories, but it is not listed in the domain file. You should add it to your domain file!\n",
            "  More info at https://rasa.com/docs/rasa/domain\n",
            "\u001b[0m\u001b[93m/usr/local/lib/python3.10/dist-packages/rasa/shared/utils/io.py:99: UserWarning: The intent 'welcher_slave_bot' is used in your stories, but it is not listed in the domain file. You should add it to your domain file!\n",
            "  More info at https://rasa.com/docs/rasa/domain\n",
            "\u001b[0m2023-06-11 18:01:37 \u001b[1;30mINFO    \u001b[0m \u001b[34mrasa.validator\u001b[0m  - Validating uniqueness of intents and stories...\n",
            "\u001b[93m/usr/local/lib/python3.10/dist-packages/rasa/shared/utils/io.py:99: UserWarning: The example 'good afternoon' was found labeled with multiple different intents in the training data. Each annotated message should only appear with one intent. You should fix that conflict The example is labeled with: goodbye, greet.\n",
            "\u001b[0m2023-06-11 18:01:37 \u001b[1;30mINFO    \u001b[0m \u001b[34mrasa.validator\u001b[0m  - Validating utterances...\n",
            "\u001b[93m/usr/local/lib/python3.10/dist-packages/rasa/shared/utils/io.py:99: UserWarning: The action 'utter_ask_document_text' is used in the stories, but is not a valid utterance action. Please make sure the action is listed in your domain and there is a template defined with its name.\n",
            "  More info at https://rasa.com/docs/rasa/actions#utterance-actions\n",
            "\u001b[0m\u001b[93m/usr/local/lib/python3.10/dist-packages/rasa/shared/utils/io.py:99: UserWarning: The action 'utter_ask_document_name' is used in the stories, but is not a valid utterance action. Please make sure the action is listed in your domain and there is a template defined with its name.\n",
            "  More info at https://rasa.com/docs/rasa/actions#utterance-actions\n",
            "\u001b[0m2023-06-11 18:01:37 \u001b[1;30mINFO    \u001b[0m \u001b[34mrasa.validator\u001b[0m  - Story structure validation...\n",
            "Processed story blocks: 100% 11/11 [00:00<00:00, 3306.15it/s, # trackers=1]\n",
            "2023-06-11 18:01:37 \u001b[1;30mINFO    \u001b[0m \u001b[34mrasa.core.training.story_conflict\u001b[0m  - Considering all preceding turns for conflict analysis.\n",
            "2023-06-11 18:01:37 \u001b[1;30mINFO    \u001b[0m \u001b[34mrasa.validator\u001b[0m  - No story structure conflicts found.\n"
          ]
        }
      ]
    },
    {
      "cell_type": "code",
      "source": [
        "!rasa train"
      ],
      "metadata": {
        "id": "Rny28irwEVkN",
        "colab": {
          "base_uri": "https://localhost:8080/"
        },
        "outputId": "9aff7812-fd13-438f-b521-46558590bea2"
      },
      "execution_count": null,
      "outputs": [
        {
          "output_type": "stream",
          "name": "stdout",
          "text": [
            "/usr/local/lib/python3.10/dist-packages/rasa/core/tracker_store.py:1048: MovedIn20Warning: \u001b[31mDeprecated API features detected! These feature(s) are not compatible with SQLAlchemy 2.0. \u001b[32mTo prevent incompatible upgrades prior to updating applications, ensure requirements files are pinned to \"sqlalchemy<2.0\". \u001b[36mSet environment variable SQLALCHEMY_WARN_20=1 to show all deprecation warnings.  Set environment variable SQLALCHEMY_SILENCE_UBER_WARNING=1 to silence this message.\u001b[0m (Background on SQLAlchemy 2.0 at: https://sqlalche.me/e/b8d9)\n",
            "  Base: DeclarativeMeta = declarative_base()\n",
            "/usr/local/lib/python3.10/dist-packages/pkg_resources/__init__.py:121: DeprecationWarning: pkg_resources is deprecated as an API\n",
            "  warnings.warn(\"pkg_resources is deprecated as an API\", DeprecationWarning)\n",
            "/usr/local/lib/python3.10/dist-packages/pkg_resources/__init__.py:2870: DeprecationWarning: Deprecated call to `pkg_resources.declare_namespace('google')`.\n",
            "Implementing implicit namespace packages (as specified in PEP 420) is preferred to `pkg_resources.declare_namespace`. See https://setuptools.pypa.io/en/latest/references/keywords.html#keyword-namespace-packages\n",
            "  declare_namespace(pkg)\n",
            "/usr/local/lib/python3.10/dist-packages/pkg_resources/__init__.py:2870: DeprecationWarning: Deprecated call to `pkg_resources.declare_namespace('google.cloud')`.\n",
            "Implementing implicit namespace packages (as specified in PEP 420) is preferred to `pkg_resources.declare_namespace`. See https://setuptools.pypa.io/en/latest/references/keywords.html#keyword-namespace-packages\n",
            "  declare_namespace(pkg)\n",
            "/usr/local/lib/python3.10/dist-packages/pkg_resources/__init__.py:2870: DeprecationWarning: Deprecated call to `pkg_resources.declare_namespace('google.logging')`.\n",
            "Implementing implicit namespace packages (as specified in PEP 420) is preferred to `pkg_resources.declare_namespace`. See https://setuptools.pypa.io/en/latest/references/keywords.html#keyword-namespace-packages\n",
            "  declare_namespace(pkg)\n",
            "/usr/local/lib/python3.10/dist-packages/pkg_resources/__init__.py:2870: DeprecationWarning: Deprecated call to `pkg_resources.declare_namespace('mpl_toolkits')`.\n",
            "Implementing implicit namespace packages (as specified in PEP 420) is preferred to `pkg_resources.declare_namespace`. See https://setuptools.pypa.io/en/latest/references/keywords.html#keyword-namespace-packages\n",
            "  declare_namespace(pkg)\n",
            "/usr/local/lib/python3.10/dist-packages/pkg_resources/__init__.py:2870: DeprecationWarning: Deprecated call to `pkg_resources.declare_namespace('ruamel')`.\n",
            "Implementing implicit namespace packages (as specified in PEP 420) is preferred to `pkg_resources.declare_namespace`. See https://setuptools.pypa.io/en/latest/references/keywords.html#keyword-namespace-packages\n",
            "  declare_namespace(pkg)\n",
            "/usr/local/lib/python3.10/dist-packages/pkg_resources/__init__.py:2870: DeprecationWarning: Deprecated call to `pkg_resources.declare_namespace('ruamel.yaml')`.\n",
            "Implementing implicit namespace packages (as specified in PEP 420) is preferred to `pkg_resources.declare_namespace`. See https://setuptools.pypa.io/en/latest/references/keywords.html#keyword-namespace-packages\n",
            "  declare_namespace(pkg)\n",
            "/usr/local/lib/python3.10/dist-packages/pkg_resources/__init__.py:2870: DeprecationWarning: Deprecated call to `pkg_resources.declare_namespace('sphinxcontrib')`.\n",
            "Implementing implicit namespace packages (as specified in PEP 420) is preferred to `pkg_resources.declare_namespace`. See https://setuptools.pypa.io/en/latest/references/keywords.html#keyword-namespace-packages\n",
            "  declare_namespace(pkg)\n",
            "2023-06-11 18:01:42 \u001b[1;30mINFO    \u001b[0m \u001b[34mnumexpr.utils\u001b[0m  - NumExpr defaulting to 2 threads.\n",
            "/usr/local/lib/python3.10/dist-packages/packaging/version.py:127: DeprecationWarning: Creating a LegacyVersion has been deprecated and will be removed in the next major release\n",
            "  warnings.warn(\n",
            "\u001b[93m/usr/local/lib/python3.10/dist-packages/rasa/shared/utils/io.py:99: UserWarning: Training data file /content/drive/My Drive/Huckles-learning-lab/RHEAB/rasa-main-bot-test-2/domain.yml must specify 'version' as string, for example:\n",
            "version: '3.1'\n",
            "Rasa Open Source will read the file as a version '3.1' file.\n",
            "  More info at https://rasa.com/docs/rasa/training-data-format\n",
            "\u001b[0m\u001b[93m/usr/local/lib/python3.10/dist-packages/rasa/shared/utils/io.py:99: UserWarning: Training data file /content/drive/My Drive/Huckles-learning-lab/RHEAB/rasa-main-bot-test-2/data/rules.yml has a lower format version than your Rasa Open Source installation: 2.0 < 3.1. Rasa Open Source will read the file as a version 3.1 file. Please update your version key to 3.1. See https://rasa.com/docs/rasa/training-data-format.\n",
            "\u001b[0m\u001b[93m/usr/local/lib/python3.10/dist-packages/rasa/shared/utils/io.py:99: UserWarning: Training data file /content/drive/My Drive/Huckles-learning-lab/RHEAB/rasa-main-bot-test-2/data/stories.yml has a lower format version than your Rasa Open Source installation: 2.0 < 3.1. Rasa Open Source will read the file as a version 3.1 file. Please update your version key to 3.1. See https://rasa.com/docs/rasa/training-data-format.\n",
            "\u001b[0m\u001b[93m/usr/local/lib/python3.10/dist-packages/rasa/shared/utils/io.py:99: UserWarning: Issue found in 'data/stories.yml': \n",
            "Found intent 'interrupt' in stories which is not part of the domain.\n",
            "  More info at https://rasa.com/docs/rasa/stories\n",
            "\u001b[0m\u001b[93m/usr/local/lib/python3.10/dist-packages/rasa/shared/utils/io.py:99: UserWarning: Issue found in 'data/stories.yml': \n",
            "Found intent 'welcher_slave_bot' in stories which is not part of the domain.\n",
            "  More info at https://rasa.com/docs/rasa/stories\n",
            "\u001b[0m\u001b[93m/usr/local/lib/python3.10/dist-packages/rasa/shared/utils/io.py:99: UserWarning: Issue found in 'data/stories.yml': \n",
            "Found intent 'start_slave_bot' in stories which is not part of the domain.\n",
            "  More info at https://rasa.com/docs/rasa/stories\n",
            "\u001b[0m\u001b[93m/usr/local/lib/python3.10/dist-packages/rasa/shared/utils/io.py:99: UserWarning: Issue found in 'data/stories.yml': \n",
            "Found intent 'stop_slave_bot' in stories which is not part of the domain.\n",
            "  More info at https://rasa.com/docs/rasa/stories\n",
            "\u001b[0m\u001b[93m/usr/local/lib/python3.10/dist-packages/rasa/shared/utils/io.py:99: UserWarning: Training data file /content/drive/My Drive/Huckles-learning-lab/RHEAB/rasa-main-bot-test-2/data/nlu.yml has a lower format version than your Rasa Open Source installation: 2.0 < 3.1. Rasa Open Source will read the file as a version 3.1 file. Please update your version key to 3.1. See https://rasa.com/docs/rasa/training-data-format.\n",
            "\u001b[0m\u001b[93m/usr/local/lib/python3.10/dist-packages/rasa/shared/utils/io.py:99: UserWarning: Action 'utter_ask_document_name' is listed as a response action in the domain file, but there is no matching response defined. Please check your domain.\n",
            "  More info at https://rasa.com/docs/rasa/responses\n",
            "\u001b[0m\u001b[93m/usr/local/lib/python3.10/dist-packages/rasa/shared/utils/io.py:99: UserWarning: Action 'utter_ask_document_text' is listed as a response action in the domain file, but there is no matching response defined. Please check your domain.\n",
            "  More info at https://rasa.com/docs/rasa/responses\n",
            "\u001b[0m\u001b[93m/usr/local/lib/python3.10/dist-packages/rasa/engine/recipes/recipe.py:35: FutureWarning: From Rasa Open Source 4.0.0 onwards it will be required to specify a recipe in your model configuration. Defaulting to recipe 'default.v1'.\n",
            "  rasa.shared.utils.io.raise_deprecation_warning(\n",
            "\u001b[0m\u001b[94mThe configuration for policies was chosen automatically. It was written into the config file at 'config.yml'.\u001b[0m\n",
            "2023-06-11 18:01:53 \u001b[1;30mINFO    \u001b[0m \u001b[34mrasa.engine.training.hooks\u001b[0m  - Restored component 'RegexFeaturizer' from cache.\n",
            "2023-06-11 18:01:53 \u001b[1;30mINFO    \u001b[0m \u001b[34mrasa.engine.training.hooks\u001b[0m  - Restored component 'LexicalSyntacticFeaturizer' from cache.\n",
            "2023-06-11 18:01:53 \u001b[1;30mINFO    \u001b[0m \u001b[34mrasa.engine.training.hooks\u001b[0m  - Restored component 'CountVectorsFeaturizer' from cache.\n",
            "2023-06-11 18:01:53 \u001b[1;30mINFO    \u001b[0m \u001b[34mrasa.engine.training.hooks\u001b[0m  - Restored component 'CountVectorsFeaturizer' from cache.\n",
            "2023-06-11 18:01:54 \u001b[1;30mINFO    \u001b[0m \u001b[34mrasa.engine.training.hooks\u001b[0m  - Starting to train component 'DIETClassifier'.\n",
            "Epochs: 100% 100/100 [01:01<00:00,  1.63it/s, t_loss=1.82, i_acc=1, e_f1=0.971]\n",
            "2023-06-11 18:02:57 \u001b[1;30mINFO    \u001b[0m \u001b[34mrasa.engine.training.hooks\u001b[0m  - Finished training component 'DIETClassifier'.\n",
            "2023-06-11 18:02:57 \u001b[1;30mINFO    \u001b[0m \u001b[34mrasa.engine.training.hooks\u001b[0m  - Starting to train component 'EntitySynonymMapper'.\n",
            "2023-06-11 18:02:57 \u001b[1;30mINFO    \u001b[0m \u001b[34mrasa.engine.training.hooks\u001b[0m  - Finished training component 'EntitySynonymMapper'.\n",
            "2023-06-11 18:02:58 \u001b[1;30mINFO    \u001b[0m \u001b[34mrasa.engine.training.hooks\u001b[0m  - Starting to train component 'ResponseSelector'.\n",
            "2023-06-11 18:02:58 \u001b[1;30mINFO    \u001b[0m \u001b[34mrasa.nlu.selectors.response_selector\u001b[0m  - Retrieval intent parameter was left to its default value. This response selector will be trained on training examples combining all retrieval intents.\n",
            "2023-06-11 18:02:58 \u001b[1;30mINFO    \u001b[0m \u001b[34mrasa.engine.training.hooks\u001b[0m  - Finished training component 'ResponseSelector'.\n",
            "Processed story blocks: 100% 11/11 [00:00<00:00, 2354.19it/s, # trackers=1]\n",
            "Processed story blocks: 100% 11/11 [00:00<00:00, 367.40it/s, # trackers=9]\n",
            "Processed story blocks: 100% 11/11 [00:00<00:00, 58.44it/s, # trackers=50]\n",
            "Processed story blocks: 100% 11/11 [00:00<00:00, 48.75it/s, # trackers=50]\n",
            "Processed rules: 100% 4/4 [00:00<00:00, 2698.17it/s, # trackers=1]\n",
            "2023-06-11 18:02:59 \u001b[1;30mINFO    \u001b[0m \u001b[34mrasa.engine.training.hooks\u001b[0m  - Starting to train component 'MemoizationPolicy'.\n",
            "Processed trackers: 100% 9/9 [00:00<00:00, 2574.60it/s, # action=28]\n",
            "Processed actions: 28it [00:00, 7268.26it/s, # examples=28]\n",
            "2023-06-11 18:03:00 \u001b[1;30mINFO    \u001b[0m \u001b[34mrasa.engine.training.hooks\u001b[0m  - Finished training component 'MemoizationPolicy'.\n",
            "2023-06-11 18:03:00 \u001b[1;30mINFO    \u001b[0m \u001b[34mrasa.engine.training.hooks\u001b[0m  - Starting to train component 'RulePolicy'.\n",
            "Processed trackers: 100% 4/4 [00:00<00:00, 983.77it/s, # action=9]\n",
            "Processed actions: 9it [00:00, 12633.45it/s, # examples=8]\n",
            "Processed trackers: 100% 9/9 [00:00<00:00, 2835.05it/s, # action=28]\n",
            "Processed trackers: 100% 4/4 [00:00<00:00, 1349.19it/s]\n",
            "Processed trackers: 100% 13/13 [00:00<00:00, 1063.61it/s]\n",
            "2023-06-11 18:03:01 \u001b[1;30mINFO    \u001b[0m \u001b[34mrasa.engine.training.hooks\u001b[0m  - Finished training component 'RulePolicy'.\n",
            "2023-06-11 18:03:01 \u001b[1;30mINFO    \u001b[0m \u001b[34mrasa.engine.training.hooks\u001b[0m  - Starting to train component 'TEDPolicy'.\n",
            "Processed trackers: 100% 509/509 [00:00<00:00, 2127.97it/s, # action=474]\n",
            "Epochs: 100% 100/100 [03:57<00:00,  2.38s/it, t_loss=5.36, loss=5.15, acc=0.92]\n",
            "2023-06-11 18:07:01 \u001b[1;30mINFO    \u001b[0m \u001b[34mrasa.engine.training.hooks\u001b[0m  - Finished training component 'TEDPolicy'.\n",
            "2023-06-11 18:07:01 \u001b[1;30mINFO    \u001b[0m \u001b[34mrasa.engine.training.hooks\u001b[0m  - Starting to train component 'UnexpecTEDIntentPolicy'.\n",
            "2023-06-11 18:07:02 \u001b[1;30mWARNING \u001b[0m \u001b[34mrasa.shared.utils.common\u001b[0m  - \u001b[33mThe UnexpecTED Intent Policy is currently experimental and might change or be removed in the future 🔬 Please share your feedback on it in the forum (https://forum.rasa.com) to help us make this feature ready for production.\u001b[0m\n",
            "Processed trackers: 100% 509/509 [00:00<00:00, 5184.65it/s, # intent=154]\n",
            "Traceback (most recent call last):\n",
            "  File \"/usr/local/lib/python3.10/dist-packages/rasa/engine/graph.py\", line 487, in __call__\n",
            "    output = self._fn(self._component, **run_kwargs)\n",
            "  File \"/usr/local/lib/python3.10/dist-packages/rasa/core/policies/ted_policy.py\", line 718, in train\n",
            "    model_data, label_ids = self._prepare_for_training(\n",
            "  File \"/usr/local/lib/python3.10/dist-packages/rasa/core/policies/ted_policy.py\", line 608, in _prepare_for_training\n",
            "    tracker_state_features, label_ids, entity_tags = self._featurize_for_training(\n",
            "  File \"/usr/local/lib/python3.10/dist-packages/rasa/core/policies/policy.py\", line 241, in _featurize_for_training\n",
            "    state_features, label_ids, entity_tags = self.featurizer.featurize_trackers(\n",
            "  File \"/usr/local/lib/python3.10/dist-packages/rasa/core/featurizers/tracker_featurizers.py\", line 352, in featurize_trackers\n",
            "    label_ids = self._convert_labels_to_ids(trackers_as_labels, domain)\n",
            "  File \"/usr/local/lib/python3.10/dist-packages/rasa/core/featurizers/tracker_featurizers.py\", line 922, in _convert_labels_to_ids\n",
            "    label_ids = [\n",
            "  File \"/usr/local/lib/python3.10/dist-packages/rasa/core/featurizers/tracker_featurizers.py\", line 923, in <listcomp>\n",
            "    [domain.intents.index(intent) for intent in tracker_intents]\n",
            "  File \"/usr/local/lib/python3.10/dist-packages/rasa/core/featurizers/tracker_featurizers.py\", line 923, in <listcomp>\n",
            "    [domain.intents.index(intent) for intent in tracker_intents]\n",
            "ValueError: 'welcher_slave_bot' is not in list\n",
            "\n",
            "The above exception was the direct cause of the following exception:\n",
            "\n",
            "Traceback (most recent call last):\n",
            "  File \"/usr/local/bin/rasa\", line 8, in <module>\n",
            "    sys.exit(main())\n",
            "  File \"/usr/local/lib/python3.10/dist-packages/rasa/__main__.py\", line 127, in main\n",
            "    cmdline_arguments.func(cmdline_arguments)\n",
            "  File \"/usr/local/lib/python3.10/dist-packages/rasa/cli/train.py\", line 56, in <lambda>\n",
            "    train_parser.set_defaults(func=lambda args: run_training(args, can_exit=True))\n",
            "  File \"/usr/local/lib/python3.10/dist-packages/rasa/cli/train.py\", line 87, in run_training\n",
            "    training_result = train_all(\n",
            "  File \"/usr/local/lib/python3.10/dist-packages/rasa/api.py\", line 105, in train\n",
            "    return train(\n",
            "  File \"/usr/local/lib/python3.10/dist-packages/rasa/model_training.py\", line 207, in train\n",
            "    return _train_graph(\n",
            "  File \"/usr/local/lib/python3.10/dist-packages/rasa/model_training.py\", line 286, in _train_graph\n",
            "    trainer.train(\n",
            "  File \"/usr/local/lib/python3.10/dist-packages/rasa/engine/training/graph_trainer.py\", line 105, in train\n",
            "    graph_runner.run(inputs={PLACEHOLDER_IMPORTER: importer})\n",
            "  File \"/usr/local/lib/python3.10/dist-packages/rasa/engine/runner/dask.py\", line 101, in run\n",
            "    dask_result = dask.get(run_graph, run_targets)\n",
            "  File \"/usr/local/lib/python3.10/dist-packages/dask/local.py\", line 557, in get_sync\n",
            "    return get_async(\n",
            "  File \"/usr/local/lib/python3.10/dist-packages/dask/local.py\", line 500, in get_async\n",
            "    for key, res_info, failed in queue_get(queue).result():\n",
            "  File \"/usr/lib/python3.10/concurrent/futures/_base.py\", line 451, in result\n",
            "    return self.__get_result()\n",
            "  File \"/usr/lib/python3.10/concurrent/futures/_base.py\", line 403, in __get_result\n",
            "    raise self._exception\n",
            "  File \"/usr/local/lib/python3.10/dist-packages/dask/local.py\", line 542, in submit\n",
            "    fut.set_result(fn(*args, **kwargs))\n",
            "  File \"/usr/local/lib/python3.10/dist-packages/dask/local.py\", line 238, in batch_execute_tasks\n",
            "    return [execute_task(*a) for a in it]\n",
            "  File \"/usr/local/lib/python3.10/dist-packages/dask/local.py\", line 238, in <listcomp>\n",
            "    return [execute_task(*a) for a in it]\n",
            "  File \"/usr/local/lib/python3.10/dist-packages/dask/local.py\", line 229, in execute_task\n",
            "    result = pack_exception(e, dumps)\n",
            "  File \"/usr/local/lib/python3.10/dist-packages/dask/local.py\", line 224, in execute_task\n",
            "    result = _execute_task(task, data)\n",
            "  File \"/usr/local/lib/python3.10/dist-packages/dask/core.py\", line 119, in _execute_task\n",
            "    return func(*(_execute_task(a, cache) for a in args))\n",
            "  File \"/usr/local/lib/python3.10/dist-packages/rasa/engine/graph.py\", line 494, in __call__\n",
            "    raise GraphComponentException(\n",
            "rasa.engine.exceptions.GraphComponentException: Error running graph component for node train_UnexpecTEDIntentPolicy2.\n"
          ]
        }
      ]
    },
    {
      "cell_type": "markdown",
      "source": [
        "###Docker compose yaml  \n",
        "Navigiere in das gDrive Arbeitsverzeichnis des neuen Rasa-Bots\n",
        "und erstelle einen neuen Ordner ...lab/\"Pfad zum Bot\"/rasa-docker mit der Datei docker-compose.yaml\n"
      ],
      "metadata": {
        "id": "j4bWzu_9JsTN"
      }
    },
    {
      "cell_type": "code",
      "source": [
        "%cd /content/drive/My Drive/Github - huckles-learning-lab/\"Pfad zum Bot\""
      ],
      "metadata": {
        "id": "XzwEskujyEJt",
        "colab": {
          "base_uri": "https://localhost:8080/"
        },
        "outputId": "4ee93294-932f-4e68-e34a-6e09aff0bd93"
      },
      "execution_count": null,
      "outputs": [
        {
          "output_type": "stream",
          "name": "stdout",
          "text": [
            "[Errno 2] No such file or directory: '/content/drive/My Drive/Github - huckles-learning-lab/Pfad zum Bot'\n",
            "/content\n"
          ]
        }
      ]
    },
    {
      "cell_type": "code",
      "source": [
        "%mkdir rasa-docker\n",
        "\n",
        "%cd rasa-docker # welchselt zum erstellen der datei in den neuen ordner\n",
        "\n",
        "# ERSTELLT DIE docker-compose.yaml \n",
        "# Passe die datei deinem Projekt an\n",
        "%%writefile docker-compose.yaml \n",
        "version: '3.8'\n",
        "services:\n",
        "  rasa:\n",
        "    image: rasa/rasa:3.0.0-full\n",
        "    container_name: \"name BotName\"\n",
        "    ports:\n",
        "      - 5005:5005\n",
        "    volumes:\n",
        "      - ./\"name of folder within the rasa.zip\":/app\n",
        "    command: \n",
        "      - \"run\"\n",
        "      - \"--enable-api\""
      ],
      "metadata": {
        "id": "B5S-al4v23wn"
      },
      "execution_count": null,
      "outputs": []
    },
    {
      "cell_type": "code",
      "source": [
        "%cd .. # welchselt zurück in das Arbeitsverzeichnis"
      ],
      "metadata": {
        "id": "HbJwLjUpRDMT"
      },
      "execution_count": null,
      "outputs": []
    },
    {
      "cell_type": "code",
      "source": [],
      "metadata": {
        "id": "31R-hJXUytfp"
      },
      "execution_count": null,
      "outputs": []
    },
    {
      "cell_type": "markdown",
      "source": [
        "### Navigieren  durch Ordner data, \n",
        "und wähle die zu bearbeitende Datei aus:\n"
      ],
      "metadata": {
        "id": "J_GHIdifyvZ8"
      }
    },
    {
      "cell_type": "code",
      "source": [
        "!ls\n"
      ],
      "metadata": {
        "id": "2adugVflzTzk",
        "colab": {
          "base_uri": "https://localhost:8080/"
        },
        "outputId": "934bb0df-6d6d-4f22-c5f4-4cc517bb47ee"
      },
      "execution_count": null,
      "outputs": [
        {
          "output_type": "stream",
          "name": "stdout",
          "text": [
            "/content\n"
          ]
        }
      ]
    },
    {
      "cell_type": "code",
      "source": [
        "%cd /path/to/data"
      ],
      "metadata": {
        "id": "nPp1kb99zNvP"
      },
      "execution_count": null,
      "outputs": []
    },
    {
      "cell_type": "markdown",
      "source": [
        "###Komprimiere  Projektdaten \n",
        "des Bots zu einem .zip-file rasa-docker.zip"
      ],
      "metadata": {
        "id": "g2PenqwhRNR9"
      }
    },
    {
      "cell_type": "code",
      "source": [
        "!zip -r ./rasa-docker ./* "
      ],
      "metadata": {
        "id": "4u5cNL_62ZEP"
      },
      "execution_count": null,
      "outputs": []
    },
    {
      "cell_type": "markdown",
      "source": [
        "###Now download the file \"rasa-docker\" and start bot:\n"
      ],
      "metadata": {
        "id": "oxOS4x7fNspG"
      }
    },
    {
      "cell_type": "markdown",
      "source": [
        "....\n",
        "Anleitung für \n",
        "Download \n",
        "erstellen...."
      ],
      "metadata": {
        "id": "CmaUmnG_05Pv"
      }
    },
    {
      "cell_type": "code",
      "source": [
        "cd /rasa-docker\n",
        "\n",
        "docker-compose up"
      ],
      "metadata": {
        "id": "Msgw2gzoR1iL"
      },
      "execution_count": null,
      "outputs": []
    },
    {
      "cell_type": "markdown",
      "source": [],
      "metadata": {
        "id": "nmzG9yI0FzqB"
      }
    },
    {
      "cell_type": "markdown",
      "source": [
        "#Haystack"
      ],
      "metadata": {
        "id": "ptRD0QXeATDx"
      }
    },
    {
      "cell_type": "markdown",
      "source": [
        "##Configuring Haystack\n"
      ],
      "metadata": {
        "id": "LONjJVBIBe3b"
      }
    },
    {
      "cell_type": "markdown",
      "source": [
        "####**Download Haystck**\n",
        "First of all, check directory and navigate to /content"
      ],
      "metadata": {
        "id": "9-xhu9PFH_HR"
      }
    },
    {
      "cell_type": "code",
      "source": [
        "# @@@@@@@@@@@@@@@@@@@@@@@@@@@@@@@@\n",
        "# @@@@      navigate to       @@@@\n",
        "# @@@@     TEST-WORKSPACE     @@@@\n",
        "# @@@@    for test purposes   @@@@\n",
        "# @@@@@@@@@@@@@@@@@@@@@@@@@@@@@@@@\n",
        "\n",
        "# Test-Workspace work directory = /content\n",
        "\n",
        "# use comands with ! and % like:\n",
        "# !ls\n",
        "# %cd\n",
        "\n",
        "!pwd\n",
        "!echo '# navigate to :'\n",
        "%cd /content\n",
        "!echo '# list directory:'\n",
        "!ls"
      ],
      "metadata": {
        "colab": {
          "base_uri": "https://localhost:8080/"
        },
        "id": "L_gPcoGhLTTO",
        "outputId": "e679107c-dc84-4567-d67d-df6fc6ff09af"
      },
      "execution_count": null,
      "outputs": [
        {
          "output_type": "stream",
          "name": "stdout",
          "text": [
            "/content\n",
            "# navigate to :\n",
            "/content\n",
            "# list directory:\n",
            "output.pkl  sample_data\n"
          ]
        }
      ]
    },
    {
      "cell_type": "code",
      "source": [
        "# Download Haystack\n",
        "!git clone https://github.com/deepset-ai/haystack.git --branch main --single-branch --depth 1\n",
        "\n",
        "%cd haystack"
      ],
      "metadata": {
        "id": "hrLVXnXAB5Gb"
      },
      "execution_count": null,
      "outputs": []
    },
    {
      "cell_type": "code",
      "source": [
        "!pwd\n",
        "!ls"
      ],
      "metadata": {
        "id": "zTo_oa3rj4uF",
        "outputId": "9a8f3761-9237-430b-b82c-96a8fc4c0ba0",
        "colab": {
          "base_uri": "https://localhost:8080/"
        }
      },
      "execution_count": null,
      "outputs": [
        {
          "output_type": "stream",
          "name": "stdout",
          "text": [
            "/content/haystack/haystack\n",
            "agents\t\t     __init__.py      pipelines.haystack-pipeline.yml\n",
            "cli\t\t     lazy_imports.py  preview\n",
            "document_stores      mmh3.py\t      schema.py\n",
            "environment.py\t     modeling\t      telemetry.py\n",
            "errors.py\t     nodes\t      testing\n",
            "haystack.Dockerfile  pipelines\t      utils\n"
          ]
        }
      ]
    },
    {
      "cell_type": "code",
      "source": [
        "%%writefile haystack.Dockerfile\n",
        "FROM deepset/haystack-cpu:latest\n",
        "        \n",
        "WORKDIR /app\n",
        "COPY haystack /app\n",
        "RUN pip install -e '.[dev,ocr,elasticsearch]'\n"
      ],
      "metadata": {
        "colab": {
          "base_uri": "https://localhost:8080/"
        },
        "id": "ElgFbb-HChsR",
        "outputId": "4ca9c4db-aaeb-4978-bfd2-eb2dce222f84"
      },
      "execution_count": null,
      "outputs": [
        {
          "output_type": "stream",
          "name": "stdout",
          "text": [
            "Overwriting haystack.Dockerfile\n"
          ]
        }
      ]
    },
    {
      "cell_type": "markdown",
      "source": [
        "####**Pipelines** yaml"
      ],
      "metadata": {
        "id": "AREOrvzxJVur"
      }
    },
    {
      "cell_type": "code",
      "source": [
        "%%writefile pipelines.haystack-pipeline.yml\n",
        "# To allow your IDE to autocomplete and validate your YAML pipelines, name them as <name of your choice>.haystack-pipeline.yml\n",
        "\n",
        "version: ignore\n",
        "\n",
        "components:    # define all the building-blocks for Pipeline\n",
        "  - name: DocumentStore\n",
        "    type: ElasticsearchDocumentStore\n",
        "    params:\n",
        "      host: localhost\n",
        "  - name: Retriever\n",
        "    type: BM25Retriever\n",
        "    params:\n",
        "      document_store: DocumentStore    # params can reference other components defined in the YAML\n",
        "      top_k: 5\n",
        "  - name: Reader       # custom-name for the component; helpful for visualization & debugging\n",
        "    type: FARMReader    # Haystack Class name for the component\n",
        "    params:\n",
        "      model_name_or_path: deepset/roberta-base-squad2\n",
        "      context_window_size: 500\n",
        "      return_no_answer: true\n",
        "  - name: TextFileConverter\n",
        "    type: TextConverter\n",
        "  - name: PDFFileConverter\n",
        "    type: PDFToTextConverter\n",
        "  - name: Preprocessor\n",
        "    type: PreProcessor\n",
        "    params:\n",
        "      split_by: word\n",
        "      split_length: 1000\n",
        "  - name: FileTypeClassifier\n",
        "    type: FileTypeClassifier\n",
        "\n",
        "pipelines:\n",
        "  - name: query    # a sample extractive-qa Pipeline\n",
        "    nodes:\n",
        "      - name: Retriever\n",
        "        inputs: [Query]\n",
        "      - name: Reader\n",
        "        inputs: [Retriever]\n",
        "  - name: indexing\n",
        "    nodes:\n",
        "      - name: FileTypeClassifier\n",
        "        inputs: [File]\n",
        "      - name: TextFileConverter\n",
        "        inputs: [FileTypeClassifier.output_1]\n",
        "      - name: PDFFileConverter\n",
        "        inputs: [FileTypeClassifier.output_2]\n",
        "      - name: Preprocessor\n",
        "        inputs: [PDFFileConverter, TextFileConverter]\n",
        "      - name: Retriever\n",
        "        inputs: [Preprocessor]\n",
        "      - name: DocumentStore\n",
        "        inputs: [Retriever]"
      ],
      "metadata": {
        "colab": {
          "base_uri": "https://localhost:8080/"
        },
        "id": "LvCZobZHC5cd",
        "outputId": "99ca2e2a-88ec-41f9-9495-f2d05f8eea34"
      },
      "execution_count": null,
      "outputs": [
        {
          "output_type": "stream",
          "name": "stdout",
          "text": [
            "Writing pipelines.haystack-pipeline.yml\n"
          ]
        }
      ]
    },
    {
      "cell_type": "markdown",
      "source": [
        "####Docker-compose.yml"
      ],
      "metadata": {
        "id": "EsTkxu43KWmk"
      }
    },
    {
      "cell_type": "code",
      "source": [
        "%%writefile  docker-compose.yml\n",
        "services:\n",
        "\n",
        "  haystack-api:\n",
        "    image: \"deepset/haystack:cpu\"\n",
        "    volumes:\n",
        "      - ./rest_api/rest_api/pipeline:/opt/pipelines\n",
        "    ports:\n",
        "      - 8000:8000\n",
        "    restart: on-failure\n",
        "    environment:\n",
        "      - DOCUMENTSTORE_PARAMS_HOST=elasticsearch\n",
        "      - PIPELINE_YAML_PATH=/opt/pipelines/pipelines.haystack-pipeline.yml\n",
        "      - TOKENIZERS_PARALLELISM=false\n",
        "      # Uncomment the following line to customise how much time (in seconds) a worker can spend serving a request\n",
        "      # before it times out. This should include the time required to cache the models and setup the pipelines.\n",
        "\n",
        "      # - GUNICORN_CMD_ARGS=\"--timeout=3000\"\n",
        "    depends_on:\n",
        "      elasticsearch:\n",
        "        condition: service_healthy\n",
        "\n",
        "  elasticsearch:\n",
        "    image: \"docker.elastic.co/elasticsearch/elasticsearch:7.17.6\"\n",
        "    ports:\n",
        "      - 9200:9200\n",
        "    restart: on-failure\n",
        "    environment:\n",
        "      - discovery.type=single-node\n",
        "      - \"ES_JAVA_OPTS=-Xms1024m -Xmx1024m\"\n",
        "    healthcheck:\n",
        "        test: curl --fail http://localhost:9200/_cat/health || exit 1\n",
        "        interval: 10s\n",
        "        timeout: 1s\n",
        "        retries: 10"
      ],
      "metadata": {
        "id": "vKmHTUfiIX-2"
      },
      "execution_count": null,
      "outputs": []
    },
    {
      "cell_type": "markdown",
      "source": [
        "#**Save in gDrive**"
      ],
      "metadata": {
        "id": "1K3vs7QdIYAm"
      }
    },
    {
      "cell_type": "code",
      "source": [
        "# @@@@@@@@@@@@@@@@@@@@@@@@@@@@@@@@\n",
        "# @@@@       for SAVING       @@@@\n",
        "# @@@@      navigate to       @@@@\n",
        "# @@@@     TEST-WORKSPACE     @@@@\n",
        "# @@@@@@@@@@@@@@@@@@@@@@@@@@@@@@@@\n",
        "\n",
        "# Test-Workspace work directory = /content\n",
        "\n",
        "# use comands with ! and % like:\n",
        "# !ls\n",
        "# %cd\n",
        "\n",
        "!pwd\n",
        "!echo '# navigate to :'\n",
        "%cd /content\n",
        "!echo '# list directory:'\n",
        "!ls"
      ],
      "metadata": {
        "id": "z4-U94riKnl6"
      },
      "execution_count": null,
      "outputs": []
    },
    {
      "cell_type": "code",
      "source": [
        "!cp ./\"path/to/file\" "
      ],
      "metadata": {
        "id": "A4-vYGQ5MHYj"
      },
      "execution_count": null,
      "outputs": []
    },
    {
      "cell_type": "code",
      "source": [
        "# @@@@@@@@@@@@@@@@@@@@@@@@@@@@@@@@\n",
        "# @@@@       NAVIGATE TO      @@@@\n",
        "# @@@@          HOME          @@@@\n",
        "# @@@@        DIRECTORY       @@@@\n",
        "# @@@@@@@@@@@@@@@@@@@@@@@@@@@@@@@@\n",
        "\n",
        "# Test-Workspace work directory = /content\n",
        "\n",
        "# use comands with ! and % like:\n",
        "# !ls\n",
        "# %cd\n",
        "\n",
        "!pwd\n",
        "!echo '# navigate to :'\n",
        "%cd /content/drive/MyDrive/Huckles-learning-lab/\n",
        "!echo '# list directory:'\n",
        "!ls"
      ],
      "metadata": {
        "colab": {
          "base_uri": "https://localhost:8080/"
        },
        "id": "Zw7kLQu7Ip_s",
        "outputId": "b960df1e-a3a5-45a4-ce17-b6a914e74354"
      },
      "execution_count": null,
      "outputs": [
        {
          "output_type": "stream",
          "name": "stdout",
          "text": [
            "/content\n",
            "# navigate to :\n",
            "/content/drive/MyDrive/Huckles-learning-lab\n",
            "# list directory:\n",
            "'AREHL-Bot *readyToUse*'  'Create Rasa Docker'\t       work_on-rasa-haystack\n",
            " AREHL-Bot_WORK-ON\t  'nexctloud einrichten.txt'\n",
            "'Create Haystack Docker'   RHEAB\n"
          ]
        }
      ]
    },
    {
      "cell_type": "code",
      "source": [
        "!ls RHEAB/"
      ],
      "metadata": {
        "colab": {
          "base_uri": "https://localhost:8080/"
        },
        "id": "_yXfjnhrI_rg",
        "outputId": "398640ea-646b-45de-9a3c-7fd19e2a054b"
      },
      "execution_count": null,
      "outputs": [
        {
          "output_type": "stream",
          "name": "stdout",
          "text": [
            "'Bot-main-test-just files'   rasa-main-bot-test-1   rasa-main-bot-test-4\n",
            " clean-rasa-haystack-demo    rasa-main-bot-test-2   rasa-main-bot-test-5\n",
            " Deeplearning-framework      rasa-main-bot-test-3\n"
          ]
        }
      ]
    },
    {
      "cell_type": "code",
      "source": [
        "%cd RHEAB/rasa-main-bot-test-2"
      ],
      "metadata": {
        "id": "j4KdQ_NTI_rj",
        "colab": {
          "base_uri": "https://localhost:8080/"
        },
        "outputId": "ffb42c8b-8922-46fa-97bb-e3613d52b414"
      },
      "execution_count": null,
      "outputs": [
        {
          "output_type": "stream",
          "name": "stdout",
          "text": [
            "/content/drive/MyDrive/Huckles-learning-lab/RHEAB/rasa-main-bot-test-2\n"
          ]
        }
      ]
    },
    {
      "cell_type": "markdown",
      "source": [
        "#Test Workspace\n",
        "hier kann alles ausprobiert werden, was nicht in gDrive gespeichert werden soll:"
      ],
      "metadata": {
        "id": "mLsAZC__Al1g"
      }
    },
    {
      "cell_type": "code",
      "source": [
        "# @@@@@@@@@@@@@@@@@@@@@@@@@@@@@@@@\n",
        "# @@@@      navigate to       @@@@\n",
        "# @@@@     TEST-WORKSPACE     @@@@\n",
        "# @@@@    for test purposes   @@@@\n",
        "# @@@@@@@@@@@@@@@@@@@@@@@@@@@@@@@@\n",
        "\n",
        "# Test-Workspace work directory = /content\n",
        "\n",
        "# use comands with ! and % like:\n",
        "# !ls\n",
        "# %cd\n",
        "\n",
        "!pwd\n",
        "!echo '# navigate to TEST-WORKSPACE :'\n",
        "%cd /content\n",
        "!echo '# list directory:'\n",
        "!ls"
      ],
      "metadata": {
        "colab": {
          "base_uri": "https://localhost:8080/"
        },
        "id": "cZOb6nV-A25x",
        "outputId": "35e4acb0-db45-4837-af23-945592c0f047"
      },
      "execution_count": null,
      "outputs": [
        {
          "output_type": "stream",
          "name": "stdout",
          "text": [
            "/content/drive/MyDrive/Huckles-learning-lab/RHEAB/rasa-main-bot-test-2\n",
            "# navigate to :\n",
            "/content\n",
            "# list directory:\n",
            "drive  sample_data\n"
          ]
        }
      ]
    },
    {
      "cell_type": "code",
      "source": [
        "# @@@@@@@@@@@@@@@@@@@@@@@@@@@@@@@@\n",
        "# @@@@     TEST-WORKSPACE     @@@@\n",
        "# @@@@  work in this console  @@@@\n",
        "# @@@@    for test purposes   @@@@\n",
        "# @@@@@@@@@@@@@@@@@@@@@@@@@@@@@@@@\n",
        "# Test-Workspace work directory = /content\n",
        "# use comands with ! and % like:\n",
        "# !ls\n",
        "# %cd\n",
        "# your code:\n",
        "#\n",
        "\n",
        "rasa "
      ],
      "metadata": {
        "id": "LTem-Rf7BmEL"
      },
      "execution_count": null,
      "outputs": []
    }
  ]
}